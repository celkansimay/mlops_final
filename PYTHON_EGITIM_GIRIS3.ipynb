{
  "cells": [
    {
      "cell_type": "markdown",
      "metadata": {
        "id": "view-in-github",
        "colab_type": "text"
      },
      "source": [
        "<a href=\"https://colab.research.google.com/github/celkansimay/mlops_final/blob/main/PYTHON_EGITIM_GIRIS3.ipynb\" target=\"_parent\"><img src=\"https://colab.research.google.com/assets/colab-badge.svg\" alt=\"Open In Colab\"/></a>"
      ]
    },
    {
      "cell_type": "markdown",
      "source": [
        "# PYTHON EĞİTİM DÖKÜMANI\n",
        "---"
      ],
      "metadata": {
        "id": "d9L9fYnXMUqp"
      }
    },
    {
      "cell_type": "markdown",
      "source": [
        "\n",
        "\n",
        ">Bu eğitim programında, katılımcıların Python dilini etkin bir şekilde kullanarak veri analizi, keşifsel veri incelemesi (EDA), görselleştirme ve makine öğrenmesi modelleri geliştirme konularında yetkinlik kazanmaları hedeflenmektedir. Eğitim, teorik bilgi ile pratik uygulamaları birleştirerek, gerçek hayat verileri üzerinde çalışmayı ve bu verilerden anlamlı içgörüler elde etmeyi mümkün kılacaktır.\n",
        "\n",
        "> Eğitim süreci, her bir başlığın detaylı bir şekilde ele alındığı ve uygulamalarla pekiştirildiği modüller halinde ilerleyecektir:\n",
        "\n",
        "> Python Temelleri ile dilin yapı taşlarının öğrenilmesi,\n",
        "Pandas ve NumPy ile veri işleme becerilerinin geliştirilmesi,\n",
        "Matplotlib ve Seaborn ile etkili veri görselleştirme,\n",
        "Keşifsel Veri Analizi (EDA) ve Feature Enginering ile veri biliminin temel süreçleri,\n",
        "Makine Öğrenmesi modellerinin temel algoritmaları ve hata metriklerinin uygulanması,\n",
        "Veri tabanı bağlantıları ve validasyon süreçlerinin ele alınması.\n",
        "Bu kapsamlı program, katılımcılara sadece Python becerileri kazandırmakla kalmayıp, aynı zamanda veri bilimi projelerinde etkili bir şekilde çalışabilmeleri için gerekli araçları sunacaktır.\n",
        "\n",
        "> **Eğitim Sonunda Kazanımlarınız:**\n",
        "\n",
        "> * Python ve popüler kütüphanelerini veri bilimi süreçlerinde kullanabilme,\n",
        "* Verileri hazırlama, analiz etme ve görselleştirme,\n",
        "* Keşifsel veri analizleri ve modelleme teknikleri uygulayabilme,\n",
        "* Gerçek dünyada karşılaşılan veri problemlerine çözüm üretebilme becerisi.\n",
        "* Eğitim sürecinde başarılar dileriz! Hedefimiz, sizi veri bilimi alanında bir adım öteye taşıyacak bilgi ve deneyimi kazandırmaktır."
      ],
      "metadata": {
        "id": "0Bc0YNiiHJsn"
      }
    },
    {
      "cell_type": "markdown",
      "metadata": {
        "id": "kJPq9dFPy6tF"
      },
      "source": [
        "# Python Versiyon Kontrolü"
      ]
    },
    {
      "cell_type": "code",
      "execution_count": null,
      "metadata": {
        "id": "-oHF5_80y6tG"
      },
      "outputs": [],
      "source": [
        "import sys\n",
        "print('Python Versiyonu:', sys.version) # Kod Satırını Çalıştırmak İçin: Shift + Enter"
      ]
    },
    {
      "cell_type": "markdown",
      "metadata": {
        "id": "RAB2iRDQy6tJ"
      },
      "source": [
        "# Python Veri Tipleri"
      ]
    },
    {
      "cell_type": "markdown",
      "metadata": {
        "id": "ooNC_XONy6tK"
      },
      "source": [
        "## Temel Veri Tipleri"
      ]
    },
    {
      "cell_type": "markdown",
      "metadata": {
        "id": "zIJ-Zp9Fy6tM"
      },
      "source": [
        "\n",
        "\n",
        "\n",
        "Python'daki  temel veri türleri aşağıdaki gibidir.\n",
        "* **Integer (int)** veri tipi **tam sayılardır**.\n",
        "* **Float (float)** veri tipi **ondalıklı (virgüllü) sayılardır**.\n",
        "* **String (str)** veri tipi **metin verileridir**. İçerisinde sayı barındırabilir, ancak bu sayılar **gerçek sayılar değildir**.\n",
        "* **Boolean (bool)** veri tipi **True/False (Doğru/Yanlış)** ifadeleridir."
      ]
    },
    {
      "cell_type": "code",
      "execution_count": null,
      "metadata": {
        "id": "MLjMl4hky6tL"
      },
      "outputs": [],
      "source": [
        "print(\"Integer(int): \", type(1))\n",
        "print(\"Float(float): \", type(1.5))\n",
        "print(\"String(str): \", type(\"1\"))\n",
        "print(\"Boolean(bool): \", type(True))"
      ]
    },
    {
      "cell_type": "markdown",
      "metadata": {
        "id": "R4i0fpCfy6tM"
      },
      "source": [
        "## Tuple & Python'da İndex Yapıları"
      ]
    },
    {
      "cell_type": "markdown",
      "metadata": {
        "id": "2g6CEXtay6tN"
      },
      "source": [
        "\n",
        "\n",
        "> * **Not:** Tuple'lar parantez içerisinde ifade edilir.\n",
        "> * **Not:** Tuple'lar Veri tiplerinin bir kombinasyonundan oluşur.\n",
        "> * **Not:** Tuple'larda tuple içerisindeki eleman değiştirilemez.(Yeni bir atama yapılamaz)"
      ]
    },
    {
      "cell_type": "code",
      "execution_count": null,
      "metadata": {
        "id": "n4x2-akVy6tN"
      },
      "outputs": [],
      "source": [
        "example_tuple = (1, 2, \"a\", 19, \"x\", 37)\n",
        "print(example_tuple)"
      ]
    },
    {
      "cell_type": "code",
      "execution_count": null,
      "metadata": {
        "id": "ceJQy__Yy6tO"
      },
      "outputs": [],
      "source": [
        "type(example_tuple)"
      ]
    },
    {
      "cell_type": "markdown",
      "metadata": {
        "id": "UTNDMOtTy6tP"
      },
      "source": [
        "Tuple içerisinde belli elemanlara erişmek için **Python index** yapısını kullanmamız gerekir.\n",
        " * **Not:** Pytonda index yapısı 0 'dan başlar.\n"
      ]
    },
    {
      "cell_type": "code",
      "execution_count": null,
      "metadata": {
        "id": "7SLed-ldy6tP"
      },
      "outputs": [],
      "source": [
        "print(example_tuple)\n",
        "print(example_tuple[1]) # Unutmayalım, Python'da index yapıları 0'dan başlayarak devam eder!\n",
        "print(example_tuple[2])"
      ]
    },
    {
      "cell_type": "markdown",
      "metadata": {
        "id": "lIMOX2ERy6tQ"
      },
      "source": [
        "Belli bir aralıktaki veriye erişmek için:\n",
        "* Tuple_degisken_adı[başlangıç_index : bitiş_index : atlama_sayısı]\n",
        "\n",
        "> **Önemli Not:** Başlangıç index'i dahil edilirken bitiş index'i dahil edilmez."
      ]
    },
    {
      "cell_type": "code",
      "execution_count": null,
      "metadata": {
        "id": "wXxsdwlPy6tQ"
      },
      "outputs": [],
      "source": [
        "#1. ve 4. index aralığıda 2'şer 2'şer atlanarak veri almak istersek:\n",
        "print(example_tuple[1:4:2])"
      ]
    },
    {
      "cell_type": "markdown",
      "metadata": {
        "id": "dgraMQLyy6tR"
      },
      "source": [
        "Peki başlangıç indexsinden son indexe kadar 2 atlayarak almak istersem?"
      ]
    },
    {
      "cell_type": "code",
      "execution_count": null,
      "metadata": {
        "id": "2Lr-NY2jy6tR"
      },
      "outputs": [],
      "source": [
        "#Baştan sona 2'şer 2'şer atlanarak veri almak istersek:\n",
        "print(example_tuple[::2])"
      ]
    },
    {
      "cell_type": "markdown",
      "metadata": {
        "id": "MOgDwFsly6tS"
      },
      "source": [
        "Ya sondan 1, 2 index değeri almak istersek"
      ]
    },
    {
      "cell_type": "code",
      "execution_count": null,
      "metadata": {
        "id": "DKsG1H9yy6tS"
      },
      "outputs": [],
      "source": [
        "print(example_tuple[-2:])\n",
        "print(example_tuple[-1])\n",
        "#print(example_tuple[-4])"
      ]
    },
    {
      "cell_type": "markdown",
      "metadata": {
        "id": "HWHQyizNy6tT"
      },
      "source": [
        "Her şey tamam, ancak tuple veri tipinde yer alan değerlerden birini değiştirmek istersem?"
      ]
    },
    {
      "cell_type": "code",
      "execution_count": null,
      "metadata": {
        "id": "8DXghBVmy6tU"
      },
      "outputs": [],
      "source": [
        "example_tuple[4]=8\n",
        "#TypeError hatası alacağız.\n",
        "\n",
        "#Peki bu iyi bir şey mi? Hangi açıdan baktığımıza göre değişir. Değiştirilmemesi gereken bir verim varsa, veri güvenliğini sağlamak için tuple'ları kullanabilirim\n",
        "#Veri setinde değişiklik yapmak istiyorsam tuple benim için yeterli değil maalesef.\n",
        "#Sonuç olarak tuple'lar çok esnek değillerdir. İhtiyacımıza uygun olan yapıyı seçmemiz lazım."
      ]
    },
    {
      "cell_type": "markdown",
      "source": [
        "Üzerinde değişiklik yapmak istiyorsak Liste'ları kullanabiliriz."
      ],
      "metadata": {
        "id": "_hEYRf9kzYl9"
      }
    },
    {
      "cell_type": "markdown",
      "metadata": {
        "id": "kKVvyG2cy6tW"
      },
      "source": [
        "## Listeler (Lists)"
      ]
    },
    {
      "cell_type": "markdown",
      "metadata": {
        "id": "wTTEIr1ry6tW"
      },
      "source": [
        "Elemanlar üzerinde değişiklik yapabiliriz.\n",
        "> Listeler, içeriklerini değiştirebilmemize izin verilmesi dışında, tuplelara çok benzer\n",
        "\n",
        "> **Not:** Listeler köşeli parantezler kullanılarak ifade edilir. (Tuple'larda yuvarlak parantezler ile ifade edilir.)"
      ]
    },
    {
      "cell_type": "code",
      "execution_count": null,
      "metadata": {
        "id": "EEgOMTH2y6tX"
      },
      "outputs": [],
      "source": [
        "example_list = [1,[1,2,3,4],2,3,4,5,6,7,2,2,2]\n",
        "print(example_list)"
      ]
    },
    {
      "cell_type": "code",
      "execution_count": null,
      "metadata": {
        "id": "LyWqsNrey6tX"
      },
      "outputs": [],
      "source": [
        "type(example_list)"
      ]
    },
    {
      "cell_type": "code",
      "execution_count": null,
      "metadata": {
        "id": "o_Xl3y-wy6tY"
      },
      "outputs": [],
      "source": [
        "print(example_list[:])"
      ]
    },
    {
      "cell_type": "markdown",
      "source": [
        "Tuple'larda olduğu gibi başlangıç indexi dahil edilir, bitiş indexi dahil edilmez."
      ],
      "metadata": {
        "id": "Y7qkXOiAtfF2"
      }
    },
    {
      "cell_type": "code",
      "source": [
        "print(example_list[1:4])"
      ],
      "metadata": {
        "id": "MQ_k9bpe0R9h"
      },
      "execution_count": null,
      "outputs": []
    },
    {
      "cell_type": "code",
      "execution_count": null,
      "metadata": {
        "id": "wOXHFmvmy6tZ"
      },
      "outputs": [],
      "source": [
        "example_list[6] = 'YENI ELEMAN'\n",
        "example_list"
      ]
    },
    {
      "cell_type": "code",
      "execution_count": null,
      "metadata": {
        "id": "STZFa9Pgy6tZ"
      },
      "outputs": [],
      "source": [
        "type(example_list)"
      ]
    },
    {
      "cell_type": "markdown",
      "metadata": {
        "id": "EeUUaHRgy6ta"
      },
      "source": [
        "Tuple'lardan farklı olarak veri değişimine izin verirler. Bu değişkenlik özellikleri kimi zaman işlerimizi kolaylaştırır, kimi zaman ise veriyi yönetmeyi zorlaştırır.\n",
        ">\n",
        "Yani, çalıştığınız veri üzerinde gerçekten değişiklik yapmak istiyorsak liste yapısını kullanmalıyız.\n",
        "\n",
        "\n",
        "> **Not:**  Bir kere değişiklik yaptıktan sonra verinin orjinalini de komple değiştirmiş oluruz."
      ]
    },
    {
      "cell_type": "code",
      "execution_count": null,
      "metadata": {
        "id": "8TP9suZHy6ta"
      },
      "outputs": [],
      "source": [
        "new_tuple = tuple(example_list)  #liste yapısında olan verinin veri tipini tuple yapıyoruz.\n",
        "print(new_tuple)\n",
        "print(type(new_tuple))"
      ]
    },
    {
      "cell_type": "code",
      "source": [
        "new_list = list(new_tuple)   #yukarda tuple'a çevirdiğimiz veriyi tekrardan liste tipine çevirebiliriz.\n",
        "print(new_list)\n",
        "print(type(new_list))"
      ],
      "metadata": {
        "id": "Q5F6QFAvu6KQ"
      },
      "execution_count": null,
      "outputs": []
    },
    {
      "cell_type": "code",
      "source": [
        "#Yani verinin tipini değiştirebiliriz.\n",
        "number_exp=5\n",
        "print(number_exp)\n",
        "print(type(number_exp))    #class int\n"
      ],
      "metadata": {
        "id": "AGRQ-XwyvQ4Z"
      },
      "execution_count": null,
      "outputs": []
    },
    {
      "cell_type": "code",
      "source": [
        "number_exp=str(number_exp)\n",
        "print(number_exp)\n",
        "print(type(number_exp))    #class str"
      ],
      "metadata": {
        "id": "FPKzvjS4vuwv"
      },
      "execution_count": null,
      "outputs": []
    },
    {
      "cell_type": "markdown",
      "metadata": {
        "id": "ynyKf_uny6tb"
      },
      "source": [
        "Listeler üzerinde elemanları değiştirebiliriz, eleman ekleyebiliriz ve eleman çıkartabiliriz."
      ]
    },
    {
      "cell_type": "markdown",
      "source": [
        "Listelere ekleme yaparken kullanabileceğimiz temel 2 fonksiyon vardır.\n",
        "> * **1:**      .append() fonksiyonu\n",
        "> * **2:**     .insert() fonksiyonu\n",
        "\n",
        ">Bu iki fonksiyon arasında farklılıklar vardır. Append() fonksiyonu listenin sonuna ekleme yaparken, insert() fonksiyonu ile listede istediğimiz index'e ekleme yapmamızı sağlar.\n"
      ],
      "metadata": {
        "id": "VIe2SrmSwR1z"
      }
    },
    {
      "cell_type": "code",
      "execution_count": null,
      "metadata": {
        "id": "rZ8mLvZ2y6tc"
      },
      "outputs": [],
      "source": [
        "# Öncelikle ana listemizi görelim\n",
        "print(\"Orjinal liste = \",new_list)\n",
        "# Ardından listemize ekleme yapalım\n",
        "new_list.append(\"append\")\n",
        "print(\"Append fonksiyonlu liste = \",new_list)"
      ]
    },
    {
      "cell_type": "code",
      "execution_count": null,
      "metadata": {
        "id": "CYcmXfvcy6tr"
      },
      "outputs": [],
      "source": [
        "# Listede istenilen indexe ekleme yapalım\n",
        "new_list.insert(1, \"insert\")\n",
        "print(\"insert fonksiyonlu liste = \",new_list)"
      ]
    },
    {
      "cell_type": "code",
      "execution_count": null,
      "metadata": {
        "id": "t-TcDVI7y6ts"
      },
      "outputs": [],
      "source": [
        "print(new_list)"
      ]
    },
    {
      "cell_type": "markdown",
      "source": [
        "Listelerden eleman çıkarmak (silmek) için kullanabileceğimiz temel 2 fonksiyon vardır.\n",
        "> * **1:** .remove() fonksiyonu\n",
        "> * **2:**  .pop() fonksiyonu\n",
        "\n",
        ">Bu iki fonksiyon arasında farklılıklar vardır. remove() fonskiyonu ile listeki belli bir elemanı silebilirken, pop() fonksiyonu ile listede istediğimiz index deki  elemanı silmemizi sağlar.\n"
      ],
      "metadata": {
        "id": "I62hPnzHyBVC"
      }
    },
    {
      "cell_type": "code",
      "execution_count": null,
      "metadata": {
        "id": "-8iuyU_ey6ts"
      },
      "outputs": [],
      "source": [
        "# Listemizden 1 elemanını çıkaralım.\n",
        "# Remove fonksiyonu silme yaparken silinmesi istenen değere ilk karşılaştığı yerde siler.\n",
        "# aynı değere eşit diğer indexler kalmaya devam eder.\n",
        "new_list.remove(2)\n",
        "print(new_list)"
      ]
    },
    {
      "cell_type": "code",
      "execution_count": null,
      "metadata": {
        "id": "D4pf3Y9Fy6tt"
      },
      "outputs": [],
      "source": [
        "# Listeden istenilen indexteki elemanı çıkaralım\n",
        "new_list.pop(2)\n",
        "print(new_list)"
      ]
    },
    {
      "cell_type": "markdown",
      "metadata": {
        "id": "volFfh5vy6tu"
      },
      "source": [
        "## Setler (Sets)"
      ]
    },
    {
      "cell_type": "markdown",
      "metadata": {
        "id": "1QSm8rqMy6tu"
      },
      "source": [
        "Setler Python'da kullanılan başka bir veri tipidir.\n",
        "\n",
        "> **Önemli Not:** Setlerin küme parantezleri (süslü parantezler) ile gösterildiğine dikkat edin!\n",
        "\n",
        "> **Önemli Not:** Setler Listelerden ve Tuple'lardan farklı olarak tekrarlı ifadelere izin vermez."
      ]
    },
    {
      "cell_type": "code",
      "execution_count": null,
      "metadata": {
        "colab": {
          "base_uri": "https://localhost:8080/"
        },
        "id": "knIlPvZyy6tu",
        "outputId": "bb636ed9-bf7c-4b8c-bff2-513c8ad5ebfa"
      },
      "outputs": [
        {
          "output_type": "stream",
          "name": "stdout",
          "text": [
            "{0, 1, 2, 5, 6, 8}\n"
          ]
        }
      ],
      "source": [
        "list_exp = [1,1,1,5,5,6,6,6,1,5,2,6,8,0]\n",
        "set_from_list = set(list_exp)\n",
        "print(set_from_list)"
      ]
    },
    {
      "cell_type": "markdown",
      "source": [
        "Setler içerisinde birleştirme yapmak  için kullanabileceğimiz temel 2 fonksiyon vardır.\n",
        "> * **1:** .union() fonksiyonu\n",
        "> * **2:**  .intersect() fonksiyonu\n",
        "\n",
        ">Bu iki fonksiyon arasında farklılıklar vardır. union() fonksiyonu ile 2 set içerisindeki elemanlar birleştirilir, intersect() fonksiyonu ile 2 set içerisindeki ortak elemanları (kesişim kümesini) gösterir.\n",
        "\n",
        "> * **Önemli Not:**  Setler tekrarlı ifadelere izin vermez. Bu 2 fonksiyonda kullanılırken tekrarlı ifadeler kullanmadan çalışır."
      ],
      "metadata": {
        "id": "n5VBDAAP2T1Y"
      }
    },
    {
      "cell_type": "code",
      "execution_count": null,
      "metadata": {
        "id": "4qVIcVLAy6tv"
      },
      "outputs": [],
      "source": [
        "set_exp1 = {0,1,2,3,4,4,4}\n",
        "set_exp2 = {2,3,4,5,6,7,8,9}\n",
        "\n",
        "print(\"Union: \", set_exp1.union(set_exp2))\n",
        "#print(\"Union: \", set_exp1 | set_exp2)   #2. bir yol: \"|\" semboli ile de union işlemi yapabiliriz.\n",
        "print(\"Intersect: \", set_exp1.intersection(set_exp2))"
      ]
    },
    {
      "cell_type": "code",
      "execution_count": null,
      "metadata": {
        "id": "S8GTu3KKy6tw"
      },
      "outputs": [],
      "source": [
        "#Listeler üzerinde doğrudan bir union işlemi bulunmaz.\n",
        "list1 = [0,1,2,3,4]\n",
        "list2 = [2,3,4,5,6,7]\n",
        "\n",
        "print(\"Union: \", list1.union(list2))"
      ]
    },
    {
      "cell_type": "code",
      "source": [
        "#Listeler üzerinde union işlemi yapmak istiyorsak, veriyi set'lere dönüştürüp yapabiliriz.\n",
        "union_result = list(set(list1) | set(list2))  #tekrar eden elemanları koruyamayız.\n",
        "print(union_result)"
      ],
      "metadata": {
        "id": "valNr6sk8JgN"
      },
      "execution_count": null,
      "outputs": []
    },
    {
      "cell_type": "code",
      "source": [
        "#Tekrar eden elemanları korumak istiyorsak :\n",
        "\n",
        "list1 = [1, 2, 3, 4]\n",
        "list2 = [3, 4, 5, 6]\n",
        "\n",
        "union_result = list1 + list2\n",
        "print(union_result)"
      ],
      "metadata": {
        "id": "gcfLYTJt9R84"
      },
      "execution_count": null,
      "outputs": []
    },
    {
      "cell_type": "code",
      "execution_count": null,
      "metadata": {
        "id": "051YxDe1y6tw"
      },
      "outputs": [],
      "source": [
        "# Set veri tipinde tuplelarda ve listelerde yapabildiğimiz gibi içerisinden istediğimiz bir parçayı alamayız.\n",
        "set_exp3 = {0,0,1,2,3,4,4,4}\n",
        "print(set_exp3[3])   #Bize hata döndürür."
      ]
    },
    {
      "cell_type": "code",
      "execution_count": null,
      "metadata": {
        "id": "cXRBVKiNy6tx"
      },
      "outputs": [],
      "source": [
        "# Ayrıca listelerde yapabildiğimiz gibi veri değişikliğine de izin vermezler.\n",
        "set_exp3[3] = 7  #Bize hata döndürür"
      ]
    }
  ],
  "metadata": {
    "kernelspec": {
      "display_name": "Python 3 (ipykernel)",
      "language": "python",
      "name": "python3"
    },
    "language_info": {
      "codemirror_mode": {
        "name": "ipython",
        "version": 3
      },
      "file_extension": ".py",
      "mimetype": "text/x-python",
      "name": "python",
      "nbconvert_exporter": "python",
      "pygments_lexer": "ipython3",
      "version": "3.9.12"
    },
    "colab": {
      "provenance": [],
      "include_colab_link": true
    }
  },
  "nbformat": 4,
  "nbformat_minor": 0
}