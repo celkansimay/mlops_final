{
  "cells": [
    {
      "cell_type": "markdown",
      "metadata": {
        "id": "view-in-github",
        "colab_type": "text"
      },
      "source": [
        "<a href=\"https://colab.research.google.com/github/celkansimay/mlops_final/blob/main/Python_Temelleri_ipynb_Revize_Ediliyor.ipynb\" target=\"_parent\"><img src=\"https://colab.research.google.com/assets/colab-badge.svg\" alt=\"Open In Colab\"/></a>"
      ]
    },
    {
      "cell_type": "markdown",
      "metadata": {
        "id": "kJPq9dFPy6tF"
      },
      "source": [
        "# Python Versiyon Kontrolü"
      ]
    },
    {
      "cell_type": "code",
      "execution_count": 1,
      "metadata": {
        "colab": {
          "base_uri": "https://localhost:8080/"
        },
        "id": "-oHF5_80y6tG",
        "outputId": "e24053c9-cafa-4284-811b-3f832415113f"
      },
      "outputs": [
        {
          "output_type": "stream",
          "name": "stdout",
          "text": [
            "Python Versiyonu: 3.10.12 (main, Sep 11 2024, 15:47:36) [GCC 11.4.0]\n"
          ]
        }
      ],
      "source": [
        "import sys\n",
        "print('Python Versiyonu:', sys.version) # Kod Satırını Çalıştırmak İçin: Shift + Enter"
      ]
    },
    {
      "cell_type": "code",
      "source": [
        "#Python girintilere duyarlı bir dildir\n",
        "for i in range(0,5):\n",
        "  print(i)"
      ],
      "metadata": {
        "colab": {
          "base_uri": "https://localhost:8080/"
        },
        "id": "1rR9L0fP0lFg",
        "outputId": "3be709d5-7c25-480e-d272-07b8d5abd1d4"
      },
      "execution_count": 2,
      "outputs": [
        {
          "output_type": "stream",
          "name": "stdout",
          "text": [
            "0\n",
            "1\n",
            "2\n",
            "3\n",
            "4\n"
          ]
        }
      ]
    },
    {
      "cell_type": "markdown",
      "metadata": {
        "id": "RAB2iRDQy6tJ"
      },
      "source": [
        "# Python Veri Tipleri"
      ]
    },
    {
      "cell_type": "markdown",
      "metadata": {
        "id": "ooNC_XONy6tK"
      },
      "source": [
        "## Temel Veri Tipleri"
      ]
    },
    {
      "cell_type": "markdown",
      "metadata": {
        "id": "zIJ-Zp9Fy6tM"
      },
      "source": [
        "\n",
        "\n",
        "\n",
        "Python'daki  temel veri türleri aşağıdaki gibidir.\n",
        "* **Integer (int)** veri tipi **tam sayılardır**.\n",
        "* **Float (float)** veri tipi **ondalıklı (virgüllü) sayılardır**.\n",
        "* **String (str)** veri tipi **metin verileridir**. İçerisinde sayı barındırabilir, ancak bu sayılar **gerçek sayılar değildir**.\n",
        "* **Boolean (bool)** veri tipi **True/False (Doğru/Yanlış)** ifadeleridir."
      ]
    },
    {
      "cell_type": "code",
      "execution_count": 3,
      "metadata": {
        "colab": {
          "base_uri": "https://localhost:8080/"
        },
        "id": "MLjMl4hky6tL",
        "outputId": "59266c40-92d6-49f0-fc28-8410272a44b6"
      },
      "outputs": [
        {
          "output_type": "stream",
          "name": "stdout",
          "text": [
            "Integer(int):  <class 'int'>\n",
            "Float(float):  <class 'float'>\n",
            "String(str):  <class 'str'>\n",
            "Boolean(bool):  <class 'bool'>\n"
          ]
        }
      ],
      "source": [
        "print(\"Integer(int): \", type(1))\n",
        "print(\"Float(float): \", type(1.5))\n",
        "print(\"String(str): \", type(\"1\"))\n",
        "print(\"Boolean(bool): \", type(True))"
      ]
    },
    {
      "cell_type": "markdown",
      "metadata": {
        "id": "R4i0fpCfy6tM"
      },
      "source": [
        "## Tuple & Python'da İndex Yapıları"
      ]
    },
    {
      "cell_type": "markdown",
      "metadata": {
        "id": "2g6CEXtay6tN"
      },
      "source": [
        "\n",
        "\n",
        "> * **Not:** Tuple'lar parantez içerisinde ifade edilir.\n",
        "> * **Not:** Tuple'lar Veri tiplerinin bir kombinasyonundan oluşur.\n",
        "> * **Not:** *italik metin* Tuple'larda tuple içerisindeki eleman değiştirilemez"
      ]
    },
    {
      "cell_type": "code",
      "execution_count": 4,
      "metadata": {
        "colab": {
          "base_uri": "https://localhost:8080/"
        },
        "id": "n4x2-akVy6tN",
        "outputId": "86580280-30f5-4b24-ec74-7684b9007aed"
      },
      "outputs": [
        {
          "output_type": "stream",
          "name": "stdout",
          "text": [
            "(1, 2, 'a', 19, 'x', 37)\n"
          ]
        }
      ],
      "source": [
        "example_tuple = (1, 2, \"a\", 19, \"x\", 37)\n",
        "print(example_tuple)"
      ]
    },
    {
      "cell_type": "code",
      "execution_count": 5,
      "metadata": {
        "colab": {
          "base_uri": "https://localhost:8080/"
        },
        "id": "ceJQy__Yy6tO",
        "outputId": "d6f1a69d-44bd-475b-860c-4ff5af33b3fc"
      },
      "outputs": [
        {
          "output_type": "execute_result",
          "data": {
            "text/plain": [
              "tuple"
            ]
          },
          "metadata": {},
          "execution_count": 5
        }
      ],
      "source": [
        "type(example_tuple)"
      ]
    },
    {
      "cell_type": "markdown",
      "metadata": {
        "id": "UTNDMOtTy6tP"
      },
      "source": [
        "Tuple içerisinde belli elemanlara erişmek için **Python index** yapısını kullanmamız gerekir.\n",
        " * **Not:** Pytonda index yapısı 0 'dan başlar.\n"
      ]
    },
    {
      "cell_type": "code",
      "execution_count": 6,
      "metadata": {
        "colab": {
          "base_uri": "https://localhost:8080/"
        },
        "id": "7SLed-ldy6tP",
        "outputId": "cef853bb-81fe-4ae7-e631-ae4fb3bc4ee3"
      },
      "outputs": [
        {
          "output_type": "stream",
          "name": "stdout",
          "text": [
            "(1, 2, 'a', 19, 'x', 37)\n",
            "2\n",
            "a\n"
          ]
        }
      ],
      "source": [
        "print(example_tuple)\n",
        "print(example_tuple[1]) # Unutmayalım, Python'da index yapıları 0'dan başlayarak devam eder!\n",
        "print(example_tuple[2])"
      ]
    },
    {
      "cell_type": "markdown",
      "metadata": {
        "id": "lIMOX2ERy6tQ"
      },
      "source": [
        "Belli bir aralıktaki veriye erişmek için:\n",
        "* ayrılacak_değişkenin_ismi[başlangıç_index : bitiş_index : atlama_sayısı]\n",
        "\n",
        "> **Önemli Not:** Başlangıç index'i dahil edilirken bitiş index'i dahil edilmez."
      ]
    },
    {
      "cell_type": "code",
      "execution_count": 7,
      "metadata": {
        "colab": {
          "base_uri": "https://localhost:8080/"
        },
        "id": "wXxsdwlPy6tQ",
        "outputId": "4d25fe5c-fea9-4449-e625-bde18aa6b7cf"
      },
      "outputs": [
        {
          "output_type": "stream",
          "name": "stdout",
          "text": [
            "(2, 19)\n"
          ]
        }
      ],
      "source": [
        "#1. ve 4. index aralığıda 2'şer 2'şer atlanarak veri almak istersek:\n",
        "print(example_tuple[1:4:2])"
      ]
    },
    {
      "cell_type": "markdown",
      "metadata": {
        "id": "dgraMQLyy6tR"
      },
      "source": [
        "Peki başlangıç indexsinden son indexe kadar 2 atlayarak almak istersem?"
      ]
    },
    {
      "cell_type": "code",
      "execution_count": 8,
      "metadata": {
        "colab": {
          "base_uri": "https://localhost:8080/"
        },
        "id": "2Lr-NY2jy6tR",
        "outputId": "3e98b63e-3807-4541-cd13-2155d60f09de"
      },
      "outputs": [
        {
          "output_type": "stream",
          "name": "stdout",
          "text": [
            "(1, 'a', 'x')\n"
          ]
        }
      ],
      "source": [
        "#Baştan sona 2'şer 2'şer atlanarak veri almak istersek:\n",
        "print(example_tuple[::2])"
      ]
    },
    {
      "cell_type": "markdown",
      "metadata": {
        "id": "MOgDwFsly6tS"
      },
      "source": [
        "Ya sondan 1, 2 index değeri almak istersek"
      ]
    },
    {
      "cell_type": "code",
      "execution_count": 9,
      "metadata": {
        "colab": {
          "base_uri": "https://localhost:8080/"
        },
        "id": "DKsG1H9yy6tS",
        "outputId": "052e6cdb-ee66-498e-8eec-49b94f2a9370"
      },
      "outputs": [
        {
          "output_type": "stream",
          "name": "stdout",
          "text": [
            "('x', 37)\n",
            "37\n"
          ]
        }
      ],
      "source": [
        "print(example_tuple[-2:])\n",
        "print(example_tuple[-1])\n",
        "#print(example_tuple[-4])"
      ]
    },
    {
      "cell_type": "markdown",
      "metadata": {
        "id": "HWHQyizNy6tT"
      },
      "source": [
        "Her şey tamam, ancak tuple veri tipinde yer alan değerlerden birini değiştirmek istersem?"
      ]
    },
    {
      "cell_type": "code",
      "execution_count": 82,
      "metadata": {
        "colab": {
          "base_uri": "https://localhost:8080/",
          "height": 211
        },
        "id": "8DXghBVmy6tU",
        "outputId": "0015e539-ffe6-48a0-bbf3-75f111c5cc82"
      },
      "outputs": [
        {
          "output_type": "error",
          "ename": "TypeError",
          "evalue": "'tuple' object does not support item assignment",
          "traceback": [
            "\u001b[0;31m---------------------------------------------------------------------------\u001b[0m",
            "\u001b[0;31mTypeError\u001b[0m                                 Traceback (most recent call last)",
            "\u001b[0;32m<ipython-input-82-99aece75ad12>\u001b[0m in \u001b[0;36m<cell line: 1>\u001b[0;34m()\u001b[0m\n\u001b[0;32m----> 1\u001b[0;31m \u001b[0mexample_tuple\u001b[0m\u001b[0;34m[\u001b[0m\u001b[0;36m4\u001b[0m\u001b[0;34m]\u001b[0m\u001b[0;34m=\u001b[0m\u001b[0;36m8\u001b[0m\u001b[0;34m\u001b[0m\u001b[0;34m\u001b[0m\u001b[0m\n\u001b[0m\u001b[1;32m      2\u001b[0m \u001b[0;31m#TypeError hatası alacağız.\u001b[0m\u001b[0;34m\u001b[0m\u001b[0;34m\u001b[0m\u001b[0m\n\u001b[1;32m      3\u001b[0m \u001b[0;34m\u001b[0m\u001b[0m\n\u001b[1;32m      4\u001b[0m \u001b[0;31m#Peki bu iyi bir şey mi? Hangi açıdan baktığımıza göre değişir. Değiştirilmemesi gereken bir verim varsa, veri güvenliğini sağlamak için tuple'ları kullanabilirim\u001b[0m\u001b[0;34m\u001b[0m\u001b[0;34m\u001b[0m\u001b[0m\n\u001b[1;32m      5\u001b[0m \u001b[0;31m#Veri setinde değişiklik yapmak istiyorsam tuple benim için yeterli değil maalesef.\u001b[0m\u001b[0;34m\u001b[0m\u001b[0;34m\u001b[0m\u001b[0m\n",
            "\u001b[0;31mTypeError\u001b[0m: 'tuple' object does not support item assignment"
          ]
        }
      ],
      "source": [
        "example_tuple[4]=8\n",
        "#TypeError hatası alacağız.\n",
        "\n",
        "#Peki bu iyi bir şey mi? Hangi açıdan baktığımıza göre değişir. Değiştirilmemesi gereken bir verim varsa, veri güvenliğini sağlamak için tuple'ları kullanabilirim\n",
        "#Veri setinde değişiklik yapmak istiyorsam tuple benim için yeterli değil maalesef.\n",
        "#Sonuç olarak tuple'lar çok esnek değillerdir. İhtiyacımıza uygun olan yapıyı seçmemiz lazım."
      ]
    },
    {
      "cell_type": "code",
      "execution_count": 12,
      "metadata": {
        "colab": {
          "base_uri": "https://localhost:8080/",
          "height": 141
        },
        "id": "_Zj2fBbqy6tU",
        "outputId": "53f4667b-56f2-4da1-838b-3391ca88e4dc"
      },
      "outputs": [
        {
          "output_type": "error",
          "ename": "TypeError",
          "evalue": "'tuple' object does not support item assignment",
          "traceback": [
            "\u001b[0;31m---------------------------------------------------------------------------\u001b[0m",
            "\u001b[0;31mTypeError\u001b[0m                                 Traceback (most recent call last)",
            "\u001b[0;32m<ipython-input-12-5cf4059b96f4>\u001b[0m in \u001b[0;36m<cell line: 1>\u001b[0;34m()\u001b[0m\n\u001b[0;32m----> 1\u001b[0;31m \u001b[0mexample_tuple\u001b[0m\u001b[0;34m[\u001b[0m\u001b[0;36m4\u001b[0m\u001b[0;34m]\u001b[0m \u001b[0;34m=\u001b[0m \u001b[0;36m8\u001b[0m\u001b[0;34m\u001b[0m\u001b[0;34m\u001b[0m\u001b[0m\n\u001b[0m",
            "\u001b[0;31mTypeError\u001b[0m: 'tuple' object does not support item assignment"
          ]
        }
      ],
      "source": [
        "\n",
        "example_tuple[4] = 8"
      ]
    },
    {
      "cell_type": "markdown",
      "source": [
        "Üzerinde değişiklik yapmak istiyorsak Liste'ları kullanabiliriz."
      ],
      "metadata": {
        "id": "_hEYRf9kzYl9"
      }
    },
    {
      "cell_type": "markdown",
      "metadata": {
        "id": "kKVvyG2cy6tW"
      },
      "source": [
        "## Listeler (Lists)"
      ]
    },
    {
      "cell_type": "markdown",
      "metadata": {
        "id": "wTTEIr1ry6tW"
      },
      "source": [
        "Elemanlar üzerinde değişiklik yapabiliriz.\n",
        "> Listeler, içeriklerini değiştirebilmemize izin verilmesi dışında, tuplelara çok benzer\n",
        "\n",
        "> **Not:** Listeler köşeli parantezler kullanılarak ifade edilir. (Tuple'larda yuvarlak parantezler ile ifade edilir.)"
      ]
    },
    {
      "cell_type": "code",
      "execution_count": 13,
      "metadata": {
        "colab": {
          "base_uri": "https://localhost:8080/"
        },
        "id": "EEgOMTH2y6tX",
        "outputId": "04c712e5-af2c-4e84-aa17-6e33dd51b97b"
      },
      "outputs": [
        {
          "output_type": "stream",
          "name": "stdout",
          "text": [
            "[1, [1, 2, 3, 4], 2, 3, 4, 5, 6, 7]\n"
          ]
        }
      ],
      "source": [
        "example_list = [1,[1,2,3,4],2,3,4,5,6,7]\n",
        "print(example_list)"
      ]
    },
    {
      "cell_type": "code",
      "execution_count": 14,
      "metadata": {
        "colab": {
          "base_uri": "https://localhost:8080/"
        },
        "id": "LyWqsNrey6tX",
        "outputId": "67f2bfef-b4e9-4899-db90-af070ff95f96"
      },
      "outputs": [
        {
          "output_type": "execute_result",
          "data": {
            "text/plain": [
              "list"
            ]
          },
          "metadata": {},
          "execution_count": 14
        }
      ],
      "source": [
        "type(example_list)"
      ]
    },
    {
      "cell_type": "code",
      "execution_count": 15,
      "metadata": {
        "colab": {
          "base_uri": "https://localhost:8080/"
        },
        "id": "o_Xl3y-wy6tY",
        "outputId": "763e0972-94b3-4efb-8a5a-dbeff2971905"
      },
      "outputs": [
        {
          "output_type": "stream",
          "name": "stdout",
          "text": [
            "[1, [1, 2, 3, 4], 2, 3, 4, 5, 6, 7]\n"
          ]
        }
      ],
      "source": [
        "print(example_list[:])"
      ]
    },
    {
      "cell_type": "markdown",
      "source": [
        "Tuple'larda olduğu gibi başlangıç indexi dahil edilir, bitiş indexi dahil edilmez."
      ],
      "metadata": {
        "id": "Y7qkXOiAtfF2"
      }
    },
    {
      "cell_type": "code",
      "source": [
        "print(example_list[1:4])"
      ],
      "metadata": {
        "colab": {
          "base_uri": "https://localhost:8080/"
        },
        "id": "MQ_k9bpe0R9h",
        "outputId": "fc46284a-b47d-49ef-dba0-8bfa9ca1af8a"
      },
      "execution_count": 16,
      "outputs": [
        {
          "output_type": "stream",
          "name": "stdout",
          "text": [
            "[[1, 2, 3, 4], 2, 3]\n"
          ]
        }
      ]
    },
    {
      "cell_type": "code",
      "execution_count": 17,
      "metadata": {
        "colab": {
          "base_uri": "https://localhost:8080/"
        },
        "id": "wOXHFmvmy6tZ",
        "outputId": "b6f8d9fb-3a9b-4f70-fc1b-21eddc664f19"
      },
      "outputs": [
        {
          "output_type": "execute_result",
          "data": {
            "text/plain": [
              "[1, [1, 2, 3, 4], 2, 3, 4, 5, 'YENI ELEMAN', 7]"
            ]
          },
          "metadata": {},
          "execution_count": 17
        }
      ],
      "source": [
        "example_list[6] = 'YENI ELEMAN'\n",
        "example_list"
      ]
    },
    {
      "cell_type": "code",
      "execution_count": 18,
      "metadata": {
        "colab": {
          "base_uri": "https://localhost:8080/"
        },
        "id": "STZFa9Pgy6tZ",
        "outputId": "13b794f1-6280-4fea-a007-e65d1dfdd6b4"
      },
      "outputs": [
        {
          "output_type": "execute_result",
          "data": {
            "text/plain": [
              "list"
            ]
          },
          "metadata": {},
          "execution_count": 18
        }
      ],
      "source": [
        "type(example_list)"
      ]
    },
    {
      "cell_type": "markdown",
      "metadata": {
        "id": "EeUUaHRgy6ta"
      },
      "source": [
        "Tuple'lardan farklı olarak veri değişimine izin verirler. Bu değişkenlik özellikleri kimi zaman işlerimizi kolaylaştırır, kimi zaman ise veriyi yönetmeyi zorlaştırır. Yani, çalıştığınız veri üzerinde gerçekten değişiklik yapmak istediğinizde liste yapısını kullanın.\n",
        "\n",
        "\n",
        "> **Not:**  Bir kere değişiklik yaptıktan sonra verinin orjinalini de komple değiştirmiş oluruz."
      ]
    },
    {
      "cell_type": "code",
      "execution_count": 19,
      "metadata": {
        "colab": {
          "base_uri": "https://localhost:8080/"
        },
        "id": "8TP9suZHy6ta",
        "outputId": "09bd0395-f930-47d4-83b3-e3c8245daa83"
      },
      "outputs": [
        {
          "output_type": "stream",
          "name": "stdout",
          "text": [
            "(1, [1, 2, 3, 4], 2, 3, 4, 5, 'YENI ELEMAN', 7)\n",
            "<class 'tuple'>\n"
          ]
        }
      ],
      "source": [
        "new_tuple = tuple(example_list)  #liste yapısında olan verinin veri tipini tuple yapıyoruz.\n",
        "print(new_tuple)\n",
        "print(type(new_tuple))"
      ]
    },
    {
      "cell_type": "code",
      "source": [
        "new_list = list(new_tuple)   #yukarda tuple'a çevirdiğimiz veriyi tekrardan liste tipine çevirebiliriz.\n",
        "print(new_list)\n",
        "print(type(new_list))"
      ],
      "metadata": {
        "colab": {
          "base_uri": "https://localhost:8080/"
        },
        "id": "Q5F6QFAvu6KQ",
        "outputId": "f7007b38-2cf6-4332-ebbf-861a0063d932"
      },
      "execution_count": 24,
      "outputs": [
        {
          "output_type": "stream",
          "name": "stdout",
          "text": [
            "[1, [1, 2, 3, 4], 2, 3, 4, 5, 'YENI ELEMAN', 7]\n",
            "<class 'list'>\n"
          ]
        }
      ]
    },
    {
      "cell_type": "code",
      "source": [
        "#Yani verinin tipini değiştirebiliriz.\n",
        "number_exp=5\n",
        "print(number_exp)\n",
        "print(type(number_exp))\n"
      ],
      "metadata": {
        "colab": {
          "base_uri": "https://localhost:8080/"
        },
        "id": "AGRQ-XwyvQ4Z",
        "outputId": "be22453d-2d34-4f86-f373-5eec958494f9"
      },
      "execution_count": 28,
      "outputs": [
        {
          "output_type": "stream",
          "name": "stdout",
          "text": [
            "5\n",
            "<class 'str'>\n"
          ]
        }
      ]
    },
    {
      "cell_type": "code",
      "source": [
        "number_exp=str(number_exp)\n",
        "print(number_exp)\n",
        "print(type(number_exp))"
      ],
      "metadata": {
        "colab": {
          "base_uri": "https://localhost:8080/"
        },
        "id": "FPKzvjS4vuwv",
        "outputId": "fb1612fc-a916-4c14-f7ce-626dffb7c7fe"
      },
      "execution_count": 29,
      "outputs": [
        {
          "output_type": "stream",
          "name": "stdout",
          "text": [
            "5\n",
            "5.0\n"
          ]
        }
      ]
    },
    {
      "cell_type": "markdown",
      "metadata": {
        "id": "ynyKf_uny6tb"
      },
      "source": [
        "Listeler üzerinde elemanları değiştirebiliriz, eleman ekleyebiliriz ve eleman çıkartabiliriz."
      ]
    },
    {
      "cell_type": "markdown",
      "source": [
        "Listelere ekleme yaparken kullanabileceğimiz temel 2 fonksiyon vardır.\n",
        "> * **1:** .append() fonksiyonu\n",
        "> * **2:**  .insert() fonksiyonu\n",
        "\n",
        ">Bu iki fonksiyon arasında farklılıklar vardır. Append() fonskiyonu listenin sonuna ekleme yaparken, insert() fonksiyonu ile listede istediğimiz index'e ekleme yapmamızı sağlar.\n"
      ],
      "metadata": {
        "id": "VIe2SrmSwR1z"
      }
    },
    {
      "cell_type": "code",
      "execution_count": 34,
      "metadata": {
        "colab": {
          "base_uri": "https://localhost:8080/"
        },
        "id": "rZ8mLvZ2y6tc",
        "outputId": "a73e2244-2276-4d5c-d3ea-7eec177fe5c7"
      },
      "outputs": [
        {
          "output_type": "stream",
          "name": "stdout",
          "text": [
            "Orjinal liste =  [1, [1, 2, 3, 4], 2, 3, 4, 5, 'YENI ELEMAN', 7, 'append_ile_ekleme', 'append_ile_ekleme', 'append_ile_ekleme', 'append_ile_ekleme']\n",
            "Append fonksiyonlu liste =  [1, [1, 2, 3, 4], 2, 3, 4, 5, 'YENI ELEMAN', 7, 'append_ile_ekleme', 'append_ile_ekleme', 'append_ile_ekleme', 'append_ile_ekleme', 'append']\n"
          ]
        }
      ],
      "source": [
        "# Öncelikle ana listemizi görelim\n",
        "print(\"Orjinal liste = \",new_list)\n",
        "# Ardından listemize ekleme yapalım\n",
        "new_list.append(\"append\")\n",
        "print(\"Append fonksiyonlu liste = \",new_list)"
      ]
    },
    {
      "cell_type": "code",
      "execution_count": 35,
      "metadata": {
        "colab": {
          "base_uri": "https://localhost:8080/"
        },
        "id": "CYcmXfvcy6tr",
        "outputId": "be805c02-e467-4267-9d02-867b66a05e5d"
      },
      "outputs": [
        {
          "output_type": "stream",
          "name": "stdout",
          "text": [
            "insert fonksiyonlu liste =  [1, 'insert', [1, 2, 3, 4], 2, 3, 4, 5, 'YENI ELEMAN', 7, 'append_ile_ekleme', 'append_ile_ekleme', 'append_ile_ekleme', 'append_ile_ekleme', 'append']\n"
          ]
        }
      ],
      "source": [
        "# Listede istenilen indexe ekleme yapalım\n",
        "new_list.insert(1, \"insert\")\n",
        "print(\"insert fonksiyonlu liste = \",new_list)"
      ]
    },
    {
      "cell_type": "code",
      "execution_count": 36,
      "metadata": {
        "colab": {
          "base_uri": "https://localhost:8080/"
        },
        "id": "t-TcDVI7y6ts",
        "outputId": "2b2b2815-faa2-4e0a-a045-1052c715241d"
      },
      "outputs": [
        {
          "output_type": "execute_result",
          "data": {
            "text/plain": [
              "[1,\n",
              " 'insert',\n",
              " [1, 2, 3, 4],\n",
              " 2,\n",
              " 3,\n",
              " 4,\n",
              " 5,\n",
              " 'YENI ELEMAN',\n",
              " 7,\n",
              " 'append_ile_ekleme',\n",
              " 'append_ile_ekleme',\n",
              " 'append_ile_ekleme',\n",
              " 'append_ile_ekleme',\n",
              " 'append']"
            ]
          },
          "metadata": {},
          "execution_count": 36
        }
      ],
      "source": [
        "new_list"
      ]
    },
    {
      "cell_type": "markdown",
      "source": [
        "Listelerden eleman çıkarmak (silmek) için kullanabileceğimiz temel 2 fonksiyon vardır.\n",
        "> * **1:** .remove() fonksiyonu\n",
        "> * **2:**  .pop() fonksiyonu\n",
        "\n",
        ">Bu iki fonksiyon arasında farklılıklar vardır. remove() fonskiyonu ile listeki belli bir elemanı silebilirken, pop() fonksiyonu ile listede istediğimiz index deki  elemanı silmemizi sağlar.\n"
      ],
      "metadata": {
        "id": "I62hPnzHyBVC"
      }
    },
    {
      "cell_type": "code",
      "execution_count": 37,
      "metadata": {
        "colab": {
          "base_uri": "https://localhost:8080/"
        },
        "id": "-8iuyU_ey6ts",
        "outputId": "25cd6c49-c6c8-4930-828b-f298fbdcddad"
      },
      "outputs": [
        {
          "output_type": "stream",
          "name": "stdout",
          "text": [
            "[1, 'insert', [1, 2, 3, 4], 3, 4, 5, 'YENI ELEMAN', 7, 'append_ile_ekleme', 'append_ile_ekleme', 'append_ile_ekleme', 'append_ile_ekleme', 'append']\n"
          ]
        }
      ],
      "source": [
        "# Listemizden 1 elemanını çıkaralım\n",
        "new_list.remove(2)\n",
        "print(new_list)"
      ]
    },
    {
      "cell_type": "code",
      "execution_count": 39,
      "metadata": {
        "colab": {
          "base_uri": "https://localhost:8080/"
        },
        "id": "D4pf3Y9Fy6tt",
        "outputId": "fd8f38ec-faa0-436e-97a7-366407e648ed"
      },
      "outputs": [
        {
          "output_type": "stream",
          "name": "stdout",
          "text": [
            "[1, 'insert', 4, 5, 'YENI ELEMAN', 7, 'append_ile_ekleme', 'append_ile_ekleme', 'append_ile_ekleme', 'append_ile_ekleme', 'append']\n"
          ]
        }
      ],
      "source": [
        "# Listeden istenilen indexteki elemanı çıkaralım\n",
        "new_list.pop(2)\n",
        "print(new_list)"
      ]
    },
    {
      "cell_type": "markdown",
      "metadata": {
        "id": "volFfh5vy6tu"
      },
      "source": [
        "## Setler (Sets)"
      ]
    },
    {
      "cell_type": "markdown",
      "metadata": {
        "id": "1QSm8rqMy6tu"
      },
      "source": [
        "Setler Python'da kullanılan başka bir veri tipidir.\n",
        "\n",
        "> **Önemli Not:** Setlerin küme parantezleri (süslü parantezler) ile gösterildiğine dikkat edin!\n",
        "\n",
        "> **Önemli Not:** Setler Listelerden ve Tuple'lardan farklı olarak tekrarlı ifadelere izin vermez."
      ]
    },
    {
      "cell_type": "code",
      "execution_count": 42,
      "metadata": {
        "colab": {
          "base_uri": "https://localhost:8080/"
        },
        "id": "knIlPvZyy6tu",
        "outputId": "bb636ed9-bf7c-4b8c-bff2-513c8ad5ebfa"
      },
      "outputs": [
        {
          "output_type": "stream",
          "name": "stdout",
          "text": [
            "{0, 1, 2, 5, 6, 8}\n"
          ]
        }
      ],
      "source": [
        "list_exp = [1,1,1,5,5,6,6,6,1,5,2,6,8,0]\n",
        "set_from_list = set(list_exp)\n",
        "print(set_from_list)"
      ]
    },
    {
      "cell_type": "markdown",
      "source": [
        "Setler içerisinde birleştirme yapmak  için kullanabileceğimiz temel 2 fonksiyon vardır.\n",
        "> * **1:** .union() fonksiyonu\n",
        "> * **2:**  .intersect() fonksiyonu\n",
        "\n",
        ">Bu iki fonksiyon arasında farklılıklar vardır. union() fonksiyonu ile 2 set içerisindeki elemanlar birleştirilir, intersect() fonksiyonu ile 2 set içerisindeki ortak elemanları (kesişim kümesini) gösterir.\n",
        "\n",
        "> * **Önemli Not:**  Setler tekrarlı ifadelere izin vermez. Bu 2 fonksiyonda kullanılırken tekrarlı ifadeler kullanmadan çalışır."
      ],
      "metadata": {
        "id": "n5VBDAAP2T1Y"
      }
    },
    {
      "cell_type": "code",
      "execution_count": 50,
      "metadata": {
        "colab": {
          "base_uri": "https://localhost:8080/"
        },
        "id": "4qVIcVLAy6tv",
        "outputId": "4d651f0e-1a0b-4593-951b-eb827ae7e568"
      },
      "outputs": [
        {
          "output_type": "stream",
          "name": "stdout",
          "text": [
            "Union:  {0, 1, 2, 3, 4, 5, 6, 7, 8, 9}\n",
            "Union:  {0, 1, 2, 3, 4, 5, 6, 7, 8, 9}\n",
            "Intersect:  {2, 3, 4}\n"
          ]
        }
      ],
      "source": [
        "set_exp1 = {0,1,2,3,4,4,4}\n",
        "set_exp2 = {2,3,4,5,6,7,8,9}\n",
        "\n",
        "print(\"Union: \", set_exp1.union(set_exp2))\n",
        "print(\"Union: \", set_exp1 | set_exp2)   #2. bir yol:   \"|\" semboli ile de union işlemi yapabiliriz.\n",
        "print(\"Intersect: \", set_exp1.intersection(set_exp2))"
      ]
    },
    {
      "cell_type": "code",
      "execution_count": 46,
      "metadata": {
        "colab": {
          "base_uri": "https://localhost:8080/",
          "height": 176
        },
        "id": "S8GTu3KKy6tw",
        "outputId": "de5704ac-e13b-4c46-f6f3-e56d6a5ae238"
      },
      "outputs": [
        {
          "output_type": "error",
          "ename": "AttributeError",
          "evalue": "'list' object has no attribute 'union'",
          "traceback": [
            "\u001b[0;31m---------------------------------------------------------------------------\u001b[0m",
            "\u001b[0;31mAttributeError\u001b[0m                            Traceback (most recent call last)",
            "\u001b[0;32m<ipython-input-46-e732d9a0eeaa>\u001b[0m in \u001b[0;36m<cell line: 5>\u001b[0;34m()\u001b[0m\n\u001b[1;32m      3\u001b[0m \u001b[0mlist2\u001b[0m \u001b[0;34m=\u001b[0m \u001b[0;34m[\u001b[0m\u001b[0;36m2\u001b[0m\u001b[0;34m,\u001b[0m\u001b[0;36m3\u001b[0m\u001b[0;34m,\u001b[0m\u001b[0;36m4\u001b[0m\u001b[0;34m,\u001b[0m\u001b[0;36m5\u001b[0m\u001b[0;34m,\u001b[0m\u001b[0;36m6\u001b[0m\u001b[0;34m,\u001b[0m\u001b[0;36m7\u001b[0m\u001b[0;34m]\u001b[0m\u001b[0;34m\u001b[0m\u001b[0;34m\u001b[0m\u001b[0m\n\u001b[1;32m      4\u001b[0m \u001b[0;34m\u001b[0m\u001b[0m\n\u001b[0;32m----> 5\u001b[0;31m \u001b[0mprint\u001b[0m\u001b[0;34m(\u001b[0m\u001b[0;34m\"Union: \"\u001b[0m\u001b[0;34m,\u001b[0m \u001b[0mlist_A\u001b[0m\u001b[0;34m.\u001b[0m\u001b[0munion\u001b[0m\u001b[0;34m(\u001b[0m\u001b[0mlist_B\u001b[0m\u001b[0;34m)\u001b[0m\u001b[0;34m)\u001b[0m\u001b[0;34m\u001b[0m\u001b[0;34m\u001b[0m\u001b[0m\n\u001b[0m",
            "\u001b[0;31mAttributeError\u001b[0m: 'list' object has no attribute 'union'"
          ]
        }
      ],
      "source": [
        "#Listeler üzerinde doğrudan bir union işlemi bulunmaz.\n",
        "list1 = [0,1,2,3,4]\n",
        "list2 = [2,3,4,5,6,7]\n",
        "\n",
        "print(\"Union: \", list_A.union(list_B))"
      ]
    },
    {
      "cell_type": "code",
      "source": [
        "#Listeler üzerinde union işlemi yapmak istiyorsak, veriyi set'lere dönüştürüp yapabiliriz.\n",
        "union_result = list(set(list1) | set(list2))  #tekrar eden elemanları koruyamayız.\n",
        "print(union_result)"
      ],
      "metadata": {
        "colab": {
          "base_uri": "https://localhost:8080/"
        },
        "id": "valNr6sk8JgN",
        "outputId": "525fa90f-9e9d-4fca-8378-5818ed18412d"
      },
      "execution_count": 47,
      "outputs": [
        {
          "output_type": "stream",
          "name": "stdout",
          "text": [
            "[0, 1, 2, 3, 4, 5, 6, 7]\n"
          ]
        }
      ]
    },
    {
      "cell_type": "code",
      "source": [
        "#Tekrar eden elemanları korumak istiyorsak :\n",
        "\n",
        "list1 = [1, 2, 3, 4]\n",
        "list2 = [3, 4, 5, 6]\n",
        "\n",
        "union_result = list1 + list2\n",
        "print(union_result)"
      ],
      "metadata": {
        "colab": {
          "base_uri": "https://localhost:8080/"
        },
        "id": "gcfLYTJt9R84",
        "outputId": "314875ee-f3b9-4a9f-a047-00ff1063a52e"
      },
      "execution_count": 51,
      "outputs": [
        {
          "output_type": "stream",
          "name": "stdout",
          "text": [
            "[1, 2, 3, 4, 3, 4, 5, 6]\n"
          ]
        }
      ]
    },
    {
      "cell_type": "code",
      "execution_count": 53,
      "metadata": {
        "colab": {
          "base_uri": "https://localhost:8080/",
          "height": 176
        },
        "id": "051YxDe1y6tw",
        "outputId": "8c88018e-212b-463d-acb8-5f6877a3e9b5"
      },
      "outputs": [
        {
          "output_type": "error",
          "ename": "TypeError",
          "evalue": "'set' object is not subscriptable",
          "traceback": [
            "\u001b[0;31m---------------------------------------------------------------------------\u001b[0m",
            "\u001b[0;31mTypeError\u001b[0m                                 Traceback (most recent call last)",
            "\u001b[0;32m<ipython-input-53-8d953cdd0a10>\u001b[0m in \u001b[0;36m<cell line: 3>\u001b[0;34m()\u001b[0m\n\u001b[1;32m      1\u001b[0m \u001b[0;31m# Set veri tipinde tuplelarda ve listelerde yapabildiğimiz gibi içerisinden istediğimiz bir parçayı alamayız.\u001b[0m\u001b[0;34m\u001b[0m\u001b[0;34m\u001b[0m\u001b[0m\n\u001b[1;32m      2\u001b[0m \u001b[0mset_exp3\u001b[0m \u001b[0;34m=\u001b[0m \u001b[0;34m{\u001b[0m\u001b[0;36m0\u001b[0m\u001b[0;34m,\u001b[0m\u001b[0;36m0\u001b[0m\u001b[0;34m,\u001b[0m\u001b[0;36m1\u001b[0m\u001b[0;34m,\u001b[0m\u001b[0;36m2\u001b[0m\u001b[0;34m,\u001b[0m\u001b[0;36m3\u001b[0m\u001b[0;34m,\u001b[0m\u001b[0;36m4\u001b[0m\u001b[0;34m,\u001b[0m\u001b[0;36m4\u001b[0m\u001b[0;34m,\u001b[0m\u001b[0;36m4\u001b[0m\u001b[0;34m}\u001b[0m\u001b[0;34m\u001b[0m\u001b[0;34m\u001b[0m\u001b[0m\n\u001b[0;32m----> 3\u001b[0;31m \u001b[0mset_exp3\u001b[0m\u001b[0;34m[\u001b[0m\u001b[0;36m3\u001b[0m\u001b[0;34m]\u001b[0m   \u001b[0;31m#Bize hata döndürür.\u001b[0m\u001b[0;34m\u001b[0m\u001b[0;34m\u001b[0m\u001b[0m\n\u001b[0m",
            "\u001b[0;31mTypeError\u001b[0m: 'set' object is not subscriptable"
          ]
        }
      ],
      "source": [
        "# Set veri tipinde tuplelarda ve listelerde yapabildiğimiz gibi içerisinden istediğimiz bir parçayı alamayız.\n",
        "set_exp3 = {0,0,1,2,3,4,4,4}\n",
        "set_exp3[3]   #Bize hata döndürür."
      ]
    },
    {
      "cell_type": "code",
      "execution_count": 54,
      "metadata": {
        "colab": {
          "base_uri": "https://localhost:8080/",
          "height": 158
        },
        "id": "cXRBVKiNy6tx",
        "outputId": "9dde4829-5aac-4cce-d937-3b3725841147"
      },
      "outputs": [
        {
          "output_type": "error",
          "ename": "TypeError",
          "evalue": "'set' object does not support item assignment",
          "traceback": [
            "\u001b[0;31m---------------------------------------------------------------------------\u001b[0m",
            "\u001b[0;31mTypeError\u001b[0m                                 Traceback (most recent call last)",
            "\u001b[0;32m<ipython-input-54-cf1efd31da34>\u001b[0m in \u001b[0;36m<cell line: 2>\u001b[0;34m()\u001b[0m\n\u001b[1;32m      1\u001b[0m \u001b[0;31m# Ayrıca listelerde yapabildiğimiz gibi veri değişikliğine de izin vermezler.\u001b[0m\u001b[0;34m\u001b[0m\u001b[0;34m\u001b[0m\u001b[0m\n\u001b[0;32m----> 2\u001b[0;31m \u001b[0mset_exp3\u001b[0m\u001b[0;34m[\u001b[0m\u001b[0;36m3\u001b[0m\u001b[0;34m]\u001b[0m \u001b[0;34m=\u001b[0m \u001b[0;36m7\u001b[0m  \u001b[0;31m#Bize hata döndürür\u001b[0m\u001b[0;34m\u001b[0m\u001b[0;34m\u001b[0m\u001b[0m\n\u001b[0m",
            "\u001b[0;31mTypeError\u001b[0m: 'set' object does not support item assignment"
          ]
        }
      ],
      "source": [
        "# Ayrıca listelerde yapabildiğimiz gibi veri değişikliğine de izin vermezler.\n",
        "set_exp3[3] = 7  #Bize hata döndürür"
      ]
    },
    {
      "cell_type": "markdown",
      "metadata": {
        "id": "cXMrg6Scy6tx"
      },
      "source": [
        "## Sözlükler (Dictionaries)"
      ]
    },
    {
      "cell_type": "markdown",
      "metadata": {
        "id": "9j7iCGC8y6ty"
      },
      "source": [
        "Bir diğer önemli veri tipi sözlüklerdir. Sözlükler diğer veri tiplerinden farklı olarak  \"gruplara\" sahip olmamızı sağlar, ancak indexe göre çalışmak yerine **Key/Value (Anahtar/Değer)** çiftlerini kullanılırlar.\n",
        "\n",
        "> **Önemli Not:** Sözlükler de küme parantezleriyle gösterilir, ancak bir set olarak algılanmamaları için **Key ve Value** değerlerinden oluşması gerekir."
      ]
    },
    {
      "cell_type": "code",
      "execution_count": 67,
      "metadata": {
        "colab": {
          "base_uri": "https://localhost:8080/"
        },
        "id": "8U0ORCOIy6ty",
        "outputId": "a88607bf-28b6-407d-f976-f79c5d8b8600"
      },
      "outputs": [
        {
          "output_type": "stream",
          "name": "stdout",
          "text": [
            "8\n"
          ]
        }
      ],
      "source": [
        "new_dict = {'Key': 8}    # dictionary yapısı = {Key:Value}\n",
        "print(new_dict['Key'])"
      ]
    },
    {
      "cell_type": "markdown",
      "metadata": {
        "id": "a4gCUEjCy6tz"
      },
      "source": [
        "Sözlükler, her bir key değerinin içerisinde **birden fazla farklı veri tipi** bulundurabilir."
      ]
    },
    {
      "cell_type": "code",
      "execution_count": 71,
      "metadata": {
        "colab": {
          "base_uri": "https://localhost:8080/"
        },
        "id": "rrKgKx6Sy6tz",
        "outputId": "01e07818-102e-4275-f8ed-f7150ed94f18"
      },
      "outputs": [
        {
          "output_type": "stream",
          "name": "stdout",
          "text": [
            "[0, 1, 2, 3, 4]\n",
            "{'sub_key_1': 5, 'sub_key_2': 'word'}\n"
          ]
        }
      ],
      "source": [
        "new_dict = {'key1': [0,1,2,3,4],\n",
        "            'key2': {'sub_key_1': 5,\n",
        "                     'sub_key_2': 'word' }\n",
        "            }   #key1 liste yapısındayken, key2 sözlük yapısındadır. Dict yapısında birden fazla veri tipi bir arada bulunabilir.\n",
        "\n",
        "print(new_dict['key1'])\n",
        "print(new_dict['key2'])"
      ]
    },
    {
      "cell_type": "code",
      "execution_count": 72,
      "metadata": {
        "colab": {
          "base_uri": "https://localhost:8080/"
        },
        "id": "9Iuq0GmNy6t0",
        "outputId": "1d318223-d81a-47d7-f883-30afa9b284d2"
      },
      "outputs": [
        {
          "output_type": "stream",
          "name": "stdout",
          "text": [
            "word\n"
          ]
        }
      ],
      "source": [
        "print(new_dict['key2']['sub_key_2'])"
      ]
    },
    {
      "cell_type": "code",
      "execution_count": null,
      "metadata": {
        "id": "D1dqvMiYy6t1",
        "outputId": "a5288611-d935-4526-f066-8bf1ffc477dc"
      },
      "outputs": [
        {
          "name": "stdout",
          "output_type": "stream",
          "text": [
            "{1914: ['Red Sox', 5, 10, 0], 1915: ['Red Sox', 43, 104, 4]}\n",
            "['Red Sox', 5, 10, 0]\n"
          ]
        }
      ],
      "source": [
        "career_stats = {'babe_ruth': { 1914: [\"Red Sox\", 5, 10, 0],\n",
        "                               1915:['Red Sox', 43, 104, 4]},\n",
        "                'gavvy_cravath': {1914: ['Phillies',149,604,14]}}\n",
        "print(career_stats['babe_ruth'])\n",
        "print(career_stats['babe_ruth'][1914])"
      ]
    },
    {
      "cell_type": "code",
      "source": [
        "nested_dict = {\n",
        "    'student': {\n",
        "        'name': 'Alice',\n",
        "        'age': 22,\n",
        "        'address': {\n",
        "            'city': 'Istanbul',\n",
        "            'street': 'Beyoğlu'\n",
        "        }\n",
        "    },\n",
        "    'courses': {\n",
        "        'course_1': ['Math',1],\n",
        "        'course_2': 'History',\n",
        "        'course_3': 'Computer Science'\n",
        "    }\n",
        "}\n",
        "print(nested_dict['student'])\n",
        "print(nested_dict['student']['address'])\n",
        "print(type(nested_dict['student']['address']))   #veri tipi dict\n",
        "\n",
        "\n",
        "print(nested_dict['courses']['course_1'])\n",
        "print(nested_dict['courses']['course_2'])\n",
        "print(type(nested_dict['courses']['course_2']))    #veri tipi string"
      ],
      "metadata": {
        "colab": {
          "base_uri": "https://localhost:8080/"
        },
        "id": "f6ksIUlsCulP",
        "outputId": "02a4e7fb-c9d1-4485-b134-d4dbd790da54"
      },
      "execution_count": 81,
      "outputs": [
        {
          "output_type": "stream",
          "name": "stdout",
          "text": [
            "{'name': 'Alice', 'age': 22, 'address': {'city': 'Istanbul', 'street': 'Beyoğlu'}}\n",
            "{'city': 'Istanbul', 'street': 'Beyoğlu'}\n",
            "<class 'dict'>\n",
            "['Math', 1]\n",
            "History\n",
            "<class 'str'>\n"
          ]
        }
      ]
    },
    {
      "cell_type": "markdown",
      "metadata": {
        "id": "LVmpXM8wy6t2"
      },
      "source": [
        "Anahtar olarak bir integer değer kullanabileceğimiz gibi değişmez olan herhangi bir nesne anahtar olarak kullanılabilir. Bu, listeleri anahtar olarak **kullanamayacağımız**, ancak tupleları **kullanabileceğimiz** anlamına gelir."
      ]
    },
    {
      "cell_type": "code",
      "execution_count": null,
      "metadata": {
        "id": "3_O2ZNYCy6t2",
        "outputId": "aadaf8fa-445d-47d4-a299-730d222ec8b3"
      },
      "outputs": [
        {
          "name": "stdout",
          "output_type": "stream",
          "text": [
            "babe_ruth {1914: ['Red Sox', 5, 10, 0], 1915: ['Red Sox', 43, 104, 4]}\n",
            "gavvy_cravath {1914: ['Phillies', 149, 604, 14]}\n",
            "('a', 'new', 'player') ['Reds', 12, 34, 8]\n"
          ]
        }
      ],
      "source": [
        "# Key değerini tuple veri tipi olarak tanımlama\n",
        "career_stats[('a','new','player')] = ['Reds',12, 34, 8]\n",
        "\n",
        "for key, val in career_stats.items(): # Items her key ve value değerine erişmemizi sağlar\n",
        "    print(key, val)"
      ]
    },
    {
      "cell_type": "code",
      "execution_count": null,
      "metadata": {
        "id": "AhxtJwZgy6t3",
        "outputId": "fd86bbe1-b8a5-4318-95a6-f27acf8b0abb"
      },
      "outputs": [
        {
          "name": "stdout",
          "output_type": "stream",
          "text": [
            "dict_keys(['babe_ruth', 'gavvy_cravath', ('a', 'new', 'player')])\n",
            "dict_values([{1914: ['Red Sox', 5, 10, 0], 1915: ['Red Sox', 43, 104, 4]}, {1914: ['Phillies', 149, 604, 14]}, ['Reds', 12, 34, 8]])\n"
          ]
        }
      ],
      "source": [
        "# Ek olarak sadece key ve value değerine de ulaşılabilir.\n",
        "print(career_stats.keys())\n",
        "print(career_stats.values())"
      ]
    },
    {
      "cell_type": "code",
      "execution_count": null,
      "metadata": {
        "id": "AEBb_q8Ly6t3",
        "outputId": "bab6f301-36f7-48e9-8866-46f30f5a2c0d"
      },
      "outputs": [
        {
          "ename": "TypeError",
          "evalue": "unhashable type: 'list'",
          "output_type": "error",
          "traceback": [
            "\u001b[0;31m---------------------------------------------------------------------------\u001b[0m",
            "\u001b[0;31mTypeError\u001b[0m                                 Traceback (most recent call last)",
            "Input \u001b[0;32mIn [34]\u001b[0m, in \u001b[0;36m<cell line: 2>\u001b[0;34m()\u001b[0m\n\u001b[1;32m      1\u001b[0m \u001b[38;5;66;03m# Key değerini liste veri tipinde tanımlama\u001b[39;00m\n\u001b[0;32m----> 2\u001b[0m career_stats[[\u001b[38;5;124m'\u001b[39m\u001b[38;5;124ma\u001b[39m\u001b[38;5;124m'\u001b[39m,\u001b[38;5;124m'\u001b[39m\u001b[38;5;124mnew\u001b[39m\u001b[38;5;124m'\u001b[39m,\u001b[38;5;124m'\u001b[39m\u001b[38;5;124mplayer\u001b[39m\u001b[38;5;124m'\u001b[39m]] \u001b[38;5;241m=\u001b[39m [\u001b[38;5;124m'\u001b[39m\u001b[38;5;124mReds\u001b[39m\u001b[38;5;124m'\u001b[39m,\u001b[38;5;241m12\u001b[39m, \u001b[38;5;241m34\u001b[39m, \u001b[38;5;241m8\u001b[39m]\n",
            "\u001b[0;31mTypeError\u001b[0m: unhashable type: 'list'"
          ]
        }
      ],
      "source": [
        "# Key değerini liste veri tipinde tanımlama\n",
        "career_stats[['a','new','player']] = ['Reds',12, 34, 8]"
      ]
    },
    {
      "cell_type": "markdown",
      "metadata": {
        "id": "HvSw_X8Gy6t4"
      },
      "source": [
        "Sözlükleri sevmemizin nedeni, veri almada gerçekten hızlı olmaları ve içermek istediğimiz her değere bir anahtar atamamıza izin vermeleridir. Anahtarların **değişmez** olması gerektiği için, liste yapılarını kabul etmezler."
      ]
    },
    {
      "cell_type": "markdown",
      "metadata": {
        "id": "IFmpXmHiy6t5"
      },
      "source": [
        "## NumPy Array\n",
        "\n",
        "Şu ana kadar gördüğümüz veri tiplerine ek olarak veri bilimi alanında çok sıklıkla kullanılan `numpy` kütüphanesinin `array` veri tipinden de bahsetmek gerekir. Array'lerin görünümü listelere çok benzer ancak **sadece bir veri tipi** kabul ederler. Yani ya integerlardan ya da float değerlerden oluşurlar ve aynı zamanda Pandas, Sklearn gibi veri bilimindeki çok temel kütüphanelerin belkemikleridir. Ancak arrayleri daha detaylı bir şekilde bu notebooktan sonra ele alacağız."
      ]
    },
    {
      "cell_type": "markdown",
      "metadata": {
        "id": "z6GMoW7wy6t5"
      },
      "source": [
        "# Python Kodlama Stili"
      ]
    },
    {
      "cell_type": "markdown",
      "metadata": {
        "id": "yOCZunw2y6t6"
      },
      "source": [
        "Python'un **Python'u nasıl yazmamız gerektiğini** belirleyen [PEP8](https://www.python.org/dev/peps/pep-0008/) adı verilen bir dizi kuralı bulunur. Bir sonraki bölümde, programlamada yeniyken sezgisel olabilecek PEP 8'in bazı önemli kısımlarından geçeceğiz. Ayrıca Python'a özgü bazı özel kod türlerini de vurgulayacağız. Bunun tüm PEP8'in tam bir gösterimi olmadığını unutmayın, sadece bazı belirli yönlerine odaklanıyoruz.\n",
        "\n",
        "Başlangıç olarak, bize fikir vermesi açısından `import this` kod bloğunu çalıştıralım. Burdan elde ettiğimiz çıktı bize Python kodlarımızı nasıl yazmamız gerektiğiyle ilgi temel kurallardan bahseder."
      ]
    },
    {
      "cell_type": "code",
      "execution_count": null,
      "metadata": {
        "id": "OfzdgTs8y6t6",
        "outputId": "22e0b7fd-c024-47bf-822d-cf0562bc66e7"
      },
      "outputs": [
        {
          "name": "stdout",
          "output_type": "stream",
          "text": [
            "The Zen of Python, by Tim Peters\n",
            "\n",
            "Beautiful is better than ugly.\n",
            "Explicit is better than implicit.\n",
            "Simple is better than complex.\n",
            "Complex is better than complicated.\n",
            "Flat is better than nested.\n",
            "Sparse is better than dense.\n",
            "Readability counts.\n",
            "Special cases aren't special enough to break the rules.\n",
            "Although practicality beats purity.\n",
            "Errors should never pass silently.\n",
            "Unless explicitly silenced.\n",
            "In the face of ambiguity, refuse the temptation to guess.\n",
            "There should be one-- and preferably only one --obvious way to do it.\n",
            "Although that way may not be obvious at first unless you're Dutch.\n",
            "Now is better than never.\n",
            "Although never is often better than *right* now.\n",
            "If the implementation is hard to explain, it's a bad idea.\n",
            "If the implementation is easy to explain, it may be a good idea.\n",
            "Namespaces are one honking great idea -- let's do more of those!\n"
          ]
        }
      ],
      "source": [
        "import this"
      ]
    },
    {
      "cell_type": "markdown",
      "metadata": {
        "id": "L8MI4_IJy6t7"
      },
      "source": [
        "Python'da kodlama yapmakla ilgili şu noktaları tekrar hatırlatmakta fayda var:\n",
        "\n",
        "> Kodlar insanlar içindir. Genellikle bir proje harcadığımız zamanın 95%'lik kısmını hata ayıklamaya harcarız. Bu sebeple, yazdığımız kodun okunaklı ve anlaşılabilir olması oldukça önemlidir. Çalıştırmak her zaman 2. aşamada gelir. Eğer kodlarınızı düzenli bir şekilde yazarsanız emin olun ileride kendinize teşekkür edeceksiniz. Emin olun **herkesin anladığı beş satırlık bir çözüm**, yalnızca bir satır uzunluğunda olan ancak **hiç kimsenin hızlı bir şekilde hata ayıklayamadığı süper akıllı bir çözümden** daha iyidir.\n",
        "\n",
        "> **Kod Geliştirme Sürecinde Takip Edilmesi Gereken Sıralama**\n",
        "> * Çalışmasını sağlayın\n",
        "> * Doğru olmasını sağlayın\n",
        "> * Okunabilir olmasını sağlayın\n",
        "> * Hızlı çalışmasını sağlayın (bu kısım nadiren olur)"
      ]
    },
    {
      "cell_type": "markdown",
      "metadata": {
        "id": "gYEtEGV5y6t7"
      },
      "source": [
        "## Değişken İsimleri"
      ]
    },
    {
      "cell_type": "markdown",
      "metadata": {
        "id": "9sj5gos5y6t8"
      },
      "source": [
        "Değişken isimleriyle ilgili bir kaç kuraldan da bahsetmesek olmaz. Genel olarak, şu kurala bağlı kalmak mantıklıdır,\n",
        "> Sarhoş halim bu değişkenin isminden ne için kullanıldığını anlayabilir mi? Anlayamıyorsanız, değiştirin!\n",
        "\n",
        "Bu kuralı biraz daha detaylandıracak olursak,\n",
        "    \n",
        "* Değişken isimleriniz anlamlı ifadelerden oluşmalı. Örneğin, `x` anlamlı bir ifade değildir.\n",
        "* Uzun değişken isimleri anlamsız değişken isimlerine göre bile tercih edilir. Kısa, ancak anlamlı isimler her zaman daha iyidir.\n",
        "* Boşlukları temsil etmek için `_` kullanın. (Bu genel bir Python kuralıdır)\n",
        "* Büyük harfli içeren yazımlardan kaçının.\n",
        "* Python uluslararası alanda oldukça popüler olan bir programlama dilidir, ilerleyen aşamalarda araştırma yaparken bile İngilizce bilgisi bizi her zaman öne taşıyacak. Bu sebeple, mümkünse kodlarımızı İngilizce olarak yazmak her zaman daha iyidir.\n",
        "\n",
        "Bazı örnek değişken isimleri:\n",
        "\n",
        "`customer_order_value`, `ordered_document_list`, `mlb_batting_statistics_1887_1990`\n",
        "\n",
        "İçeriğini görmeden bile, bu değişkenlerin içinde ne tarz bilgiler barındırdığını tahmin edebiliyorum. İşte bu bizim istediğimiz stil!"
      ]
    },
    {
      "cell_type": "markdown",
      "metadata": {
        "id": "2uAmbx3qy6t8"
      },
      "source": [
        "## Koşullu İfadeler (If / Elif / Else)"
      ]
    },
    {
      "cell_type": "markdown",
      "metadata": {
        "id": "4aBaxd8ay6t9"
      },
      "source": [
        "Gerçek hayatta, genellikle etrafımızdaki bilgileri değerlendirmeli ve ardından gözlemlediklerimize göre bir hareket tarzı seçmeliyiz.\n",
        "\n",
        "- Hava güzelse dışarı çıkacağım. (Hava güzel değilse dışarı çıkmayacağım anlamına gelir.)\n",
        "\n",
        "Python'da `if` yapısı bu tür karar verme seçeneklerini yönetmek için kullanılırız. Belirtilen durumun gerçekleşmesi durumunda bu yöntemi izle, gerçekleşmediği durumlarda ise şu yöntemi izle mantığı vardır."
      ]
    },
    {
      "cell_type": "code",
      "execution_count": null,
      "metadata": {
        "id": "UaN9nBdRy6t9",
        "outputId": "84058458-0dc5-4aa1-8bea-07d2ca2d4c4c"
      },
      "outputs": [
        {
          "name": "stdout",
          "output_type": "stream",
          "text": [
            "3 is bigger\n",
            "3 is not bigger\n"
          ]
        }
      ],
      "source": [
        "if 5 > 4:\n",
        "    print(\"3 is bigger\")\n",
        "print(\"3 is not bigger\")"
      ]
    },
    {
      "cell_type": "code",
      "execution_count": null,
      "metadata": {
        "id": "iljrV0NYy6t-",
        "outputId": "1fa1a71f-0bcf-4e04-9625-baae9f2f04c9"
      },
      "outputs": [
        {
          "name": "stdout",
          "output_type": "stream",
          "text": [
            "10 is smaller than 12\n",
            "10 is smaller than 25\n"
          ]
        }
      ],
      "source": [
        "number = 10\n",
        "if number < 5:\n",
        "    print(number, 'is smaller than 5')\n",
        "if number < 12:\n",
        "    print(number, 'is smaller than 12')\n",
        "if number < 25:\n",
        "    print(number, 'is smaller than 25')"
      ]
    },
    {
      "cell_type": "code",
      "execution_count": null,
      "metadata": {
        "id": "arwnzSBpy6t-",
        "outputId": "0915adf3-62f5-4f34-c799-cf99be3cb91f"
      },
      "outputs": [
        {
          "name": "stdout",
          "output_type": "stream",
          "text": [
            "10 is smaller than 12\n"
          ]
        }
      ],
      "source": [
        "number = 10\n",
        "if number < 5:\n",
        "    print(number, 'is smaller than 5')\n",
        "elif number < 12:\n",
        "    print(number, 'is smaller than 12')\n",
        "elif number < 25:\n",
        "    print(number, 'is smaller than 25')"
      ]
    },
    {
      "cell_type": "code",
      "execution_count": null,
      "metadata": {
        "id": "UyshJ-Ufy6t_",
        "outputId": "6e9c7860-ae2d-486e-d800-092bfa77c7c8"
      },
      "outputs": [
        {
          "name": "stdout",
          "output_type": "stream",
          "text": [
            "a is bigger than b AND b is bigger than c\n"
          ]
        }
      ],
      "source": [
        "# 2'den fazla koşul belirtmek de mümkündür\n",
        "a = 30\n",
        "b = 20\n",
        "c = 10\n",
        "if a > b and b > c:\n",
        "    print(\"a is bigger than b AND b is bigger than c\")\n",
        "elif a < b and b < c:\n",
        "    print(\"a is smaller than b AND b is smaller than c\")\n",
        "else:\n",
        "    print(\"These conditions did not hold\")"
      ]
    },
    {
      "cell_type": "code",
      "execution_count": null,
      "metadata": {
        "id": "6NnxrVnfy6t_",
        "outputId": "6b5ebf10-4261-4e53-d02e-3e1c19ab0170"
      },
      "outputs": [
        {
          "name": "stdout",
          "output_type": "stream",
          "text": [
            "Yes!\n"
          ]
        }
      ],
      "source": [
        "number_list = [10,20,30,40,50]\n",
        "if 10 in number_list:\n",
        "    print(\"Yes!\")"
      ]
    },
    {
      "cell_type": "markdown",
      "metadata": {
        "id": "9BTK9mJjy6uA"
      },
      "source": [
        "> Peki ya liste içerisinde tüm elemanları belirli bir işleme tabi tutmak istersem?"
      ]
    },
    {
      "cell_type": "markdown",
      "metadata": {
        "id": "2gaXVaGMy6uA"
      },
      "source": [
        "## Döngüler (For / While)"
      ]
    },
    {
      "cell_type": "markdown",
      "metadata": {
        "id": "BzeywdmTy6uB"
      },
      "source": [
        "Döngü, aynı kod bloğunun potansiyel olarak birçok kez tekrar tekrar yürütülmesi anlamına gelir. Python'da döngü kurabileceğimiz 2 temel yapı vardır:\n",
        "\n",
        "- **For** & **While** Döngüleri.\n",
        "\n",
        "Ancak veri biliminde yapılan çalışmalarda genellikle **for döngüleri** çok daha yaygın bir şekilde kullanılırlar."
      ]
    },
    {
      "cell_type": "code",
      "execution_count": null,
      "metadata": {
        "id": "CDxpofk8y6uB",
        "outputId": "7f39c322-c456-43a0-e26e-ac98d4fa5528"
      },
      "outputs": [
        {
          "name": "stdout",
          "output_type": "stream",
          "text": [
            "16.666666666666668\n",
            "33.333333333333336\n",
            "50.0\n",
            "66.66666666666667\n",
            "83.33333333333333\n"
          ]
        }
      ],
      "source": [
        "for number in number_list:\n",
        "    new_number = number * 5 / 3\n",
        "    print(new_number)"
      ]
    },
    {
      "cell_type": "code",
      "execution_count": null,
      "metadata": {
        "id": "0BiBsbLby6uC",
        "outputId": "d71837f7-439b-41ca-bdae-325ed12e8186"
      },
      "outputs": [
        {
          "name": "stdout",
          "output_type": "stream",
          "text": [
            "0\n",
            "1\n",
            "2\n",
            "3\n",
            "4\n",
            "5\n",
            "6\n",
            "7\n",
            "8\n",
            "9\n"
          ]
        }
      ],
      "source": [
        "x = 0\n",
        "while x < 10:\n",
        "    print(x)\n",
        "    x = x + 1"
      ]
    },
    {
      "cell_type": "code",
      "execution_count": null,
      "metadata": {
        "id": "8JRrubO2y6uC",
        "outputId": "ba89eec6-cc83-4210-b01e-fddff3b416dd"
      },
      "outputs": [
        {
          "name": "stdout",
          "output_type": "stream",
          "text": [
            "0\n",
            "1\n",
            "2\n",
            "3\n",
            "4\n",
            "5\n",
            "6\n",
            "7\n",
            "8\n",
            "9\n"
          ]
        }
      ],
      "source": [
        "x = 0\n",
        "while x < 10:\n",
        "    print(x)\n",
        "    x += 1"
      ]
    },
    {
      "cell_type": "code",
      "execution_count": null,
      "metadata": {
        "scrolled": true,
        "id": "C3gjAINdy6uD",
        "outputId": "cb87c869-40f5-43f9-bb96-179bc61bb8d8"
      },
      "outputs": [
        {
          "name": "stdout",
          "output_type": "stream",
          "text": [
            "0\n",
            "2\n",
            "4\n",
            "6\n",
            "8\n"
          ]
        }
      ],
      "source": [
        "x = 0\n",
        "while x < 10:\n",
        "    print(x)\n",
        "    x += 1\n",
        "    x = x + 1"
      ]
    },
    {
      "cell_type": "markdown",
      "metadata": {
        "id": "s6wbyHLyy6uE"
      },
      "source": [
        "## Fonksiyonlar - Yazılanları Sürekli Tekrar Etmeme Sanatı\n",
        "\n",
        "Eğer bir gün kendini önceden yazdıklarını kopyala-yapıştır yaparken yakalarsan, hayır bunu yapma...\n",
        "\n",
        "Önceden yazdığımız kodlar hiç bir zaman kopyala-yapıştır yapılmamalı. Peki ben önceden yaptığım bir işlemi, şu anda çalıştığım satıra nasıl taşıyacağım?\n",
        "> İşte bunun çözümü fonksiyonlar oluşturmak.\n",
        "\n",
        "Diyelim ki satış kaydından bir kullanıcınin verilerini almak ve o tabloda bir kullanıcıyı kaç kez gördüğümü takip etmek istediğim bir grup veriyi işliyorum."
      ]
    },
    {
      "cell_type": "code",
      "execution_count": null,
      "metadata": {
        "id": "MTHig_iHy6uE",
        "outputId": "88cc7eb7-99d9-47cc-f56d-aba356ddcbcd"
      },
      "outputs": [
        {
          "name": "stdout",
          "output_type": "stream",
          "text": [
            "{'Sam': 3, 'Carol': 2, 'Doug': 2, 'Oliver': 1, 'Tari': 2}\n"
          ]
        }
      ],
      "source": [
        "table1 = [['Sam', 36, 85.95],\n",
        " ['Carol', 75, 53.65],\n",
        " ['Sam', 90, 95.37],\n",
        " ['Doug', 61, 19.8],\n",
        " ['Sam', 41, 45.22],\n",
        " ['Doug', 29, 42.98],\n",
        " ['Oliver', 61, 95.74],\n",
        " ['Carol', 32, 17.12],\n",
        " ['Tari', 27, 68.83],\n",
        " ['Tari', 81, 62.47]]\n",
        "\n",
        "name_counter = {}\n",
        "for row in table1:\n",
        "    name = row[0]\n",
        "    if name in name_counter.keys():\n",
        "        name_counter[name] += 1\n",
        "    else:\n",
        "        name_counter[name] = 1\n",
        "print(name_counter)"
      ]
    },
    {
      "cell_type": "markdown",
      "metadata": {
        "id": "zql_M1UPy6uF"
      },
      "source": [
        "Peki elime yeni bir tablo daha geldi ve tekrardan aynı işlemi yapmam gerekiyor.\n",
        "\n",
        "Elimde 2 seçeneğim var,\n",
        "- Ya üstte yazdığım ifadeyi kopyala-yapıştır yapıcam?\n",
        "- Ya da üstte yazdığım ifadeyi bir fonksiyona dönüştürücem?\n",
        "\n",
        "Hadi bu sefer fonksiyona dönüştürmeyi deneyelim,"
      ]
    },
    {
      "cell_type": "code",
      "execution_count": null,
      "metadata": {
        "id": "CklTFgUty6uF"
      },
      "outputs": [],
      "source": [
        "def count_names_in_tables(table_to_count):\n",
        "    \"\"\"\n",
        "    İlk sütunu kullanıcının adından oluşacak şekilde, bir tablo verisi alır\n",
        "    ve her bir kullanıcının tabloda kaç defa geçtiğini bulur.\n",
        "    ---\n",
        "    Girdi: Tablo (bir çok listeden oluşan bir liste)\n",
        "    Çıktı: Sözlük (İsimler key değerleri, kaç defa geçtikleri value değerleri)\n",
        "    \"\"\"\n",
        "    name_counter = {}\n",
        "    for row in table_to_count:\n",
        "        name = row[0]\n",
        "        if name in name_counter.keys():\n",
        "            name_counter[name] += 1\n",
        "        else:\n",
        "            name_counter[name] = 1\n",
        "    return name_counter"
      ]
    },
    {
      "cell_type": "code",
      "execution_count": null,
      "metadata": {
        "id": "nmrI3U_Ey6uG",
        "outputId": "9eba4fe7-aa0a-42b0-a095-38677cb5d3e2"
      },
      "outputs": [
        {
          "name": "stdout",
          "output_type": "stream",
          "text": [
            "{'Sam': 3, 'Carol': 2, 'Doug': 2, 'Oliver': 1, 'Tari': 2}\n"
          ]
        }
      ],
      "source": [
        "print(count_names_in_tables(table1))"
      ]
    },
    {
      "cell_type": "code",
      "execution_count": null,
      "metadata": {
        "id": "LCJKDEJPy6uG",
        "outputId": "e5da7299-a0c0-4f33-d02c-cd8a3c1832f9"
      },
      "outputs": [
        {
          "name": "stdout",
          "output_type": "stream",
          "text": [
            "{'Oliver': 1, 'Tari': 3, 'Carol': 4, 'Kelly': 1, 'Sam': 1}\n"
          ]
        }
      ],
      "source": [
        "table2 = [['Oliver', 12, 49.95],\n",
        " ['Tari', 76, 30.71],\n",
        " ['Carol', 98, 25.07],\n",
        " ['Carol', 24, 11.85],\n",
        " ['Carol', 34, 13.36],\n",
        " ['Kelly', 14, 34.31],\n",
        " ['Tari', 6, 86.11],\n",
        " ['Tari', 90, 29.08],\n",
        " ['Carol', 55, 45.61],\n",
        " ['Sam', 88, 97.47]]\n",
        "\n",
        "print(count_names_in_tables(table2))"
      ]
    },
    {
      "cell_type": "markdown",
      "metadata": {
        "id": "1rdJnZ6Ay6uH"
      },
      "source": [
        "Yazdığımız fonksiyonla ilgili bazı noktalara değinelim,\n",
        "\n",
        "* Değişkenlerin belli kalıplara sokulmaması gerekir. Biz her zaman fonksiyonlarımızın esnek olmasını isteriz.\n",
        "* Yazdığımız fonksiyonun sadece bir kere değil istediğimiz kadar kullanabilmeliyiz.\n",
        "* Günün sonunda, her işlev bir hedefi gerçekleştirmelidir. Bu, her işlevin aynı anda yalnızca bir hedefe ulaştığından emin olmak için bir işlev içinde bir işlev çağırmamız gerektiği anlamına gelebilir.\n",
        "\n",
        "Yani, yazdığımız fonksiyonun şu şekilde bir yapıda olması lazım.\n",
        "\n",
        "```python\n",
        "def clean_person_name(name):\n",
        "    \"\"\"\n",
        "    Kullanıcı adınındaki karışıklıkları önler\n",
        "    ve temiz halini oluşturur.\n",
        "    \"\"\"\n",
        "    name = name.lower()\n",
        "    name = name.replace(\"'\",\"\") # İsmin sade bir şekilde görünmesi için kesme işaretini boş değerle değiştirir.\n",
        "    return name\n",
        "\n",
        "def process_row(row):\n",
        "    \"\"\"\n",
        "    Satır bazında bir veri alır ana işlem döngüsüne\n",
        "    göndermeden önce tüm sütunlarda temizleme işlemi yapar.\n",
        "    \"\"\"\n",
        "    name = clean_person_name(row[0])\n",
        "    product_name = lookup_product_name_from_id(row[1])\n",
        "    converted_price = convert_pounds_to_dollars(row[2])\n",
        "    return (name, product_name, converted_price)\n",
        "```\n",
        "\n",
        "Bu örnekte, `process_row` yalnızca her satırı işleme görevini gerçekleştirir. Ancak, kişilerin adını temizlemek için biraz yardıma ihtiyacı vardı, bu yüzden bunu yalnızca tek bir işi olan `clean_person_name` fonksiyonuna diğer işlev, kişinin adını temizlemeyi, devrettik.\n",
        "\n",
        "İşte bu işlevler, tekrarlanan eylemleri minimum kodla verimli bir şekilde gerçekleştirmemizi sağlar. Ayrıca bize birkaç fayda daha sağlarlar:\n",
        "* Eğer sürecimizi yükseltmemiz gerekiyorsa, sadece bir yerde işlevi değiştirmemiz gerekir ve yaptığımız bu değişiklik kodun geri kalanını doğrudan etkileyecek.\n",
        "* Hata aldığımızda, Python hangi işlevin nerede ve nerede bozulduğunu tespit eder, böylece hataları hızlı bir şekilde bulabiliriz."
      ]
    },
    {
      "cell_type": "markdown",
      "metadata": {
        "id": "pppGc40Vy6uI"
      },
      "source": [
        "# Notebooklar Arasında Çalışmak\n",
        "\n",
        "Şimdi de diğer notebookda oluşturduğumuz fonksiyonumuzu buraya çağıralım."
      ]
    },
    {
      "cell_type": "code",
      "execution_count": null,
      "metadata": {
        "id": "MVlMTQMTy6uI"
      },
      "outputs": [],
      "source": [
        "from ipynb.fs.full.Python_UDF import factorial # Jupyter Notebook dosyasından import"
      ]
    },
    {
      "cell_type": "code",
      "execution_count": null,
      "metadata": {
        "id": "Mby0_JM5y6uJ",
        "outputId": "5fa6e173-aae1-4593-a745-ce27c0529473"
      },
      "outputs": [
        {
          "data": {
            "text/plain": [
              "6"
            ]
          },
          "execution_count": 50,
          "metadata": {},
          "output_type": "execute_result"
        }
      ],
      "source": [
        "factorial(3)"
      ]
    },
    {
      "cell_type": "code",
      "execution_count": null,
      "metadata": {
        "id": "canRwNuZy6uJ"
      },
      "outputs": [],
      "source": [
        "from Python_UDF import factorial # Python dosyasından import"
      ]
    },
    {
      "cell_type": "code",
      "execution_count": null,
      "metadata": {
        "id": "-9NABZbUy6uJ",
        "outputId": "9550b629-ecd3-4769-920c-c2eca15f12c3"
      },
      "outputs": [
        {
          "data": {
            "text/plain": [
              "6"
            ]
          },
          "execution_count": 52,
          "metadata": {},
          "output_type": "execute_result"
        }
      ],
      "source": [
        "factorial(3)"
      ]
    },
    {
      "cell_type": "markdown",
      "metadata": {
        "id": "QyUl8TRPy6uK"
      },
      "source": [
        "## Dokümantasyon"
      ]
    },
    {
      "cell_type": "markdown",
      "metadata": {
        "id": "_sdh-3Cky6uK"
      },
      "source": [
        "Kod yazarken bize ve kodu inceleyecek diğer kişilere yardımcı olması açısından ek açıklamalar eklememiz gerektiğini konuştuk. Ancak, bu ek açıklamaları yazmanın iyi ve kötü yöntemleri var. Hadi bunu örneklendirelim."
      ]
    },
    {
      "cell_type": "markdown",
      "metadata": {
        "id": "-6GLBBnxy6uL"
      },
      "source": [
        "#### Kötü Örnek:"
      ]
    },
    {
      "cell_type": "markdown",
      "metadata": {
        "id": "z4hOfX6-y6uL"
      },
      "source": [
        "```python\n",
        "# s_list değişkeni üzerinden bir döngü\n",
        "for x in s_list:\n",
        "    x.update() # Döngüye giren tüm elemanları güncelle\n",
        "```"
      ]
    },
    {
      "cell_type": "markdown",
      "metadata": {
        "id": "rA5wmXmvy6uM"
      },
      "source": [
        "Bu döngüde ne yapılmaya çalışıldığı benim 6 ay düşünsem de anlayabileceğim bir şey değil. `x` ne? `s_list` ne? Anlayabildiğim tek nokta, bir şeyler güncellemişim, ancak nasıl, neden? Ama şöyle yazarsam her şey çok daha anlaşılır olacak..."
      ]
    },
    {
      "cell_type": "markdown",
      "metadata": {
        "id": "E3YWNv4Wy6uM"
      },
      "source": [
        "#### İyi Örnek:"
      ]
    },
    {
      "cell_type": "markdown",
      "metadata": {
        "id": "ulVVF2bWy6uM"
      },
      "source": [
        "```python\n",
        "# Şarkı listesinde yer alan tüm şarkıların adlarını güncellemek için bir döngü\n",
        "for song in song_list:\n",
        "    song.update_title() # Güncelleme işlemi\n",
        "```"
      ]
    },
    {
      "cell_type": "markdown",
      "metadata": {
        "id": "EH-gmYBty6uN"
      },
      "source": [
        "## Belge Dizini Yapıları\n",
        "\n",
        "Belge dizileri, o şeyin işlevini tanımlamaya yardımcı olan ve özellikle fonksiyon yapılarından sonra gelen üç tırnaklı dizelerdir."
      ]
    },
    {
      "cell_type": "code",
      "execution_count": null,
      "metadata": {
        "id": "8j_Ct20my6uN"
      },
      "outputs": [],
      "source": [
        "def multiply_by_two(number):\n",
        "    \"\"\"\n",
        "    Bu fonksiyon girdi olarak girilen değeri 2'yle çarpar\n",
        "    ---\n",
        "    Girdi: Sayısal\n",
        "    Çıktı: Sayısal\n",
        "    \"\"\"\n",
        "    return 2*number"
      ]
    },
    {
      "cell_type": "code",
      "execution_count": null,
      "metadata": {
        "id": "OuWsMiwVy6uO",
        "outputId": "fdf90344-2145-4d37-ab8b-d04f832fa130"
      },
      "outputs": [
        {
          "data": {
            "text/plain": [
              "8"
            ]
          },
          "execution_count": 54,
          "metadata": {},
          "output_type": "execute_result"
        }
      ],
      "source": [
        "multiply_by_two(4)"
      ]
    },
    {
      "cell_type": "code",
      "execution_count": null,
      "metadata": {
        "id": "mI57QXyTy6uO",
        "outputId": "3af5b637-f980-41b2-fe7b-cc7bbbed3aaa"
      },
      "outputs": [
        {
          "data": {
            "text/plain": [
              "'44'"
            ]
          },
          "execution_count": 55,
          "metadata": {},
          "output_type": "execute_result"
        }
      ],
      "source": [
        "multiply_by_two(\"4\")"
      ]
    },
    {
      "cell_type": "markdown",
      "metadata": {
        "id": "QoH2Yvszy6uP"
      },
      "source": [
        "## Döngü Yazımları\n",
        "\n",
        "`for` döngüleri çok başarılıdır ve bir çok amacımızı başarmamızda bize yardımcı olurlar.\n",
        "\n",
        "Şimdi de onları nasıl yazmamız gerektiğini inceleyelim..."
      ]
    },
    {
      "cell_type": "code",
      "execution_count": null,
      "metadata": {
        "id": "8xY29EhXy6uP",
        "outputId": "47c4dbea-979b-46ba-8d5a-8629a810c601"
      },
      "outputs": [
        {
          "name": "stdout",
          "output_type": "stream",
          "text": [
            "[['Sam', 36, 85.95], ['Carol', 75, 53.65], ['Sam', 90, 95.37], ['Doug', 61, 19.8], ['Sam', 41, 45.22], ['Doug', 29, 42.98], ['Oliver', 61, 95.74], ['Carol', 32, 17.12], ['Tari', 27, 68.83], ['Tari', 81, 62.47]]\n"
          ]
        }
      ],
      "source": [
        "print(table1)"
      ]
    },
    {
      "cell_type": "markdown",
      "metadata": {
        "id": "XV64zGQFy6uQ"
      },
      "source": [
        "Bu benim istediğim çıktı türü değil! Kaç satırım olduğunu anlaması bile oldukça zor, `for` döngülerinden yararlanarak bu çıktıya biraz çeki düzen verelim."
      ]
    },
    {
      "cell_type": "markdown",
      "metadata": {
        "id": "6hfZk0NOy6uQ"
      },
      "source": [
        "#### İyi Kod Yazımı:"
      ]
    },
    {
      "cell_type": "code",
      "execution_count": null,
      "metadata": {
        "id": "PiIFU1jSy6uR",
        "outputId": "6e2510a7-617b-4d87-87b2-33e1102068e3"
      },
      "outputs": [
        {
          "name": "stdout",
          "output_type": "stream",
          "text": [
            "['Sam', 36, 85.95]\n",
            "['Carol', 75, 53.65]\n",
            "['Sam', 90, 95.37]\n",
            "['Doug', 61, 19.8]\n",
            "['Sam', 41, 45.22]\n",
            "['Doug', 29, 42.98]\n",
            "['Oliver', 61, 95.74]\n",
            "['Carol', 32, 17.12]\n",
            "['Tari', 27, 68.83]\n",
            "['Tari', 81, 62.47]\n"
          ]
        }
      ],
      "source": [
        "for row in table1:\n",
        "    print(row)"
      ]
    },
    {
      "cell_type": "markdown",
      "metadata": {
        "id": "zkbMKdciy6uR"
      },
      "source": [
        "#### Kötü Kod Yazımı:"
      ]
    },
    {
      "cell_type": "code",
      "execution_count": null,
      "metadata": {
        "id": "b5zdoGify6uS",
        "outputId": "2dd3f436-a9ab-4d5c-ae49-64c5aa54130d"
      },
      "outputs": [
        {
          "name": "stdout",
          "output_type": "stream",
          "text": [
            "['Sam', 36, 85.95]\n",
            "['Carol', 75, 53.65]\n",
            "['Sam', 90, 95.37]\n",
            "['Doug', 61, 19.8]\n",
            "['Sam', 41, 45.22]\n",
            "['Doug', 29, 42.98]\n",
            "['Oliver', 61, 95.74]\n",
            "['Carol', 32, 17.12]\n",
            "['Tari', 27, 68.83]\n",
            "['Tari', 81, 62.47]\n"
          ]
        }
      ],
      "source": [
        "for i in range(len(table1)):\n",
        "    print(table1[i])"
      ]
    },
    {
      "cell_type": "code",
      "execution_count": null,
      "metadata": {
        "id": "XZ_VXHdvy6uS",
        "outputId": "ae971738-8079-4921-b27f-ec7e735ed918"
      },
      "outputs": [
        {
          "data": {
            "text/plain": [
              "range(0, 10)"
            ]
          },
          "execution_count": 59,
          "metadata": {},
          "output_type": "execute_result"
        }
      ],
      "source": [
        "range(10)"
      ]
    },
    {
      "cell_type": "code",
      "execution_count": null,
      "metadata": {
        "id": "q8NH2e96y6uT",
        "outputId": "76fb7f7c-5e0a-4f98-d205-6f203ae7982a"
      },
      "outputs": [
        {
          "data": {
            "text/plain": [
              "10"
            ]
          },
          "execution_count": 60,
          "metadata": {},
          "output_type": "execute_result"
        }
      ],
      "source": [
        "len(table1)"
      ]
    },
    {
      "cell_type": "markdown",
      "metadata": {
        "id": "EF0a6yoqy6uT"
      },
      "source": [
        "Bazı durumlarda elemanlarımızın index numaralarına erişme ve onlarla çalışma ihtiyacı duyarız. Bu amaç doğrultusunda eğer satırın index numaralarına ihtiyacım varsa bu konuda `enumerate` fonksiyonundan yararlanabiliriz."
      ]
    },
    {
      "cell_type": "code",
      "execution_count": null,
      "metadata": {
        "id": "z1TfNcA4y6uU",
        "outputId": "a022448a-cbe4-4457-ba27-a97eb92f0a29"
      },
      "outputs": [
        {
          "name": "stdout",
          "output_type": "stream",
          "text": [
            "0 ['Sam', 36, 85.95] ['Sam', 36, 85.95]\n",
            "1 ['Carol', 75, 53.65] ['Carol', 75, 53.65]\n",
            "2 ['Sam', 90, 95.37] ['Sam', 90, 95.37]\n",
            "3 ['Doug', 61, 19.8] ['Doug', 61, 19.8]\n",
            "4 ['Sam', 41, 45.22] ['Sam', 41, 45.22]\n",
            "5 ['Doug', 29, 42.98] ['Doug', 29, 42.98]\n",
            "6 ['Oliver', 61, 95.74] ['Oliver', 61, 95.74]\n",
            "7 ['Carol', 32, 17.12] ['Carol', 32, 17.12]\n",
            "8 ['Tari', 27, 68.83] ['Tari', 27, 68.83]\n",
            "9 ['Tari', 81, 62.47] ['Tari', 81, 62.47]\n"
          ]
        }
      ],
      "source": [
        "for ix, row in enumerate(table1):\n",
        "    print(ix, row, table1[ix])"
      ]
    },
    {
      "cell_type": "markdown",
      "metadata": {
        "id": "ZWUp4bB2y6uU"
      },
      "source": [
        "## List Comprehensions"
      ]
    },
    {
      "cell_type": "markdown",
      "metadata": {
        "id": "Yj7v3WlQy6uU"
      },
      "source": [
        "List Comprehensions, mevcut listelere dayalı listeler tanımlamanın ve oluşturmanın oldukça etkili bir yoludur. Liste oluşturmak için normal fonksiyonlardan ve döngülerden genellikle daha **kompakt** ve daha **hızlıdır**. Ancak, kodun kullanıcı dostu olmasını sağlamak için çok uzun List Compherensions'ları tek bir satıra yazmaktan kaçınmalıyız."
      ]
    },
    {
      "cell_type": "code",
      "execution_count": null,
      "metadata": {
        "id": "7R4Ar3S6y6uV",
        "outputId": "916ad38c-aa00-4bad-9c58-313411e747c3"
      },
      "outputs": [
        {
          "name": "stdout",
          "output_type": "stream",
          "text": [
            "[4, 5, 6, 8]\n"
          ]
        }
      ],
      "source": [
        "a_list_of_numbers = [1,2,3,4,5,7]\n",
        "\n",
        "new_list_of_numbers = [x + 1 for x in a_list_of_numbers if x > 2]\n",
        "print(new_list_of_numbers)"
      ]
    },
    {
      "cell_type": "code",
      "execution_count": null,
      "metadata": {
        "id": "d5G_7pqny6uV"
      },
      "outputs": [],
      "source": [
        "new_list = []\n",
        "for number in a_list_of_numbers:\n",
        "    if number > 2:\n",
        "        new_list.append(number + 1)"
      ]
    },
    {
      "cell_type": "code",
      "execution_count": null,
      "metadata": {
        "id": "y8SL4atTy6uW",
        "outputId": "42642721-8f5d-4d4a-d23c-cfc88928e290"
      },
      "outputs": [
        {
          "data": {
            "text/plain": [
              "[4, 5, 6, 8]"
            ]
          },
          "execution_count": 64,
          "metadata": {},
          "output_type": "execute_result"
        }
      ],
      "source": [
        "new_list"
      ]
    },
    {
      "cell_type": "markdown",
      "metadata": {
        "id": "EeMy4XX6y6uW"
      },
      "source": [
        "## In Yapısı"
      ]
    },
    {
      "cell_type": "markdown",
      "metadata": {
        "id": "vwTk9JvLy6uX"
      },
      "source": [
        "Bir üstteki örnekte, yazdığımız `for` döngüsünde bir değerin olup olmadığını tespit etmek için `in` yapısını kullandık. Şimdi bu `in` yapısını biraz daha inceleyelim ve bir de `string` veri tiplerindeki kullanımına bakalım."
      ]
    },
    {
      "cell_type": "code",
      "execution_count": null,
      "metadata": {
        "id": "obr70gmsy6uX",
        "outputId": "ab4d04d9-71e7-44fa-ca70-123a31b4387a"
      },
      "outputs": [
        {
          "name": "stdout",
          "output_type": "stream",
          "text": [
            "Found an 'e'\n"
          ]
        }
      ],
      "source": [
        "test_string = \"test string of words, yep\"\n",
        "\n",
        "if 'z' in test_string:\n",
        "    print(\"Found a 'z'\")\n",
        "elif 'e' in test_string:\n",
        "    print(\"Found an 'e'\")"
      ]
    },
    {
      "cell_type": "code",
      "execution_count": null,
      "metadata": {
        "id": "hFFFeNMzy6uY",
        "outputId": "6b15004c-7ab0-4bdb-bee1-c5adaeebeeac"
      },
      "outputs": [
        {
          "data": {
            "text/plain": [
              "25"
            ]
          },
          "execution_count": 66,
          "metadata": {},
          "output_type": "execute_result"
        }
      ],
      "source": [
        "len(test_string)"
      ]
    },
    {
      "cell_type": "markdown",
      "metadata": {
        "id": "jXrpDgmYy6uY"
      },
      "source": [
        "Peki ya bir liste veri tipinde?"
      ]
    },
    {
      "cell_type": "code",
      "execution_count": null,
      "metadata": {
        "id": "6v6hGYruy6uZ",
        "outputId": "9cfce26f-3a7b-4fcf-c8d8-932641c93ea1"
      },
      "outputs": [
        {
          "name": "stdout",
          "output_type": "stream",
          "text": [
            "Found a '1'\n",
            "Found an '5'\n"
          ]
        }
      ],
      "source": [
        "test_list = [1,2,3,4,5]\n",
        "\n",
        "if 1 in test_list:\n",
        "    print(\"Found a '1'\")\n",
        "if 5 in test_list:\n",
        "    print(\"Found an '5'\")"
      ]
    },
    {
      "cell_type": "code",
      "execution_count": null,
      "metadata": {
        "id": "dEL3Oswwy6uZ",
        "outputId": "8dbb782c-e12a-43b7-e84f-cc4ca1403113"
      },
      "outputs": [
        {
          "name": "stdout",
          "output_type": "stream",
          "text": [
            "Found a '1'\n"
          ]
        }
      ],
      "source": [
        "test_list = [1,2,3,4,5]\n",
        "\n",
        "if 1 in test_list:\n",
        "    print(\"Found a '1'\")\n",
        "elif 5 in test_list:\n",
        "    print(\"Found an '5'\")"
      ]
    },
    {
      "cell_type": "markdown",
      "metadata": {
        "id": "z1YLkazky6ua"
      },
      "source": [
        "## Lambda Fonksiyonu ve Sıralama İşlemleri"
      ]
    },
    {
      "cell_type": "markdown",
      "metadata": {
        "id": "CllWHcTIy6ua"
      },
      "source": [
        "Python'da sıralama işlemleri yapabilmek için elimizde 2 farklı yolumuz vardır. Şimdi bunları aşağıdaki örneklerle görelim ve aralarındaki farkı anlamaya çalışalım."
      ]
    },
    {
      "cell_type": "code",
      "execution_count": null,
      "metadata": {
        "id": "GXxaOdTfy6ub",
        "outputId": "b0c174aa-106a-43e5-e476-4b9a2eb149c3"
      },
      "outputs": [
        {
          "name": "stdout",
          "output_type": "stream",
          "text": [
            "[('alice', 29, 115000), ('bob', 32, 72000), ('charlie', 25, 95000)]\n",
            "[('bob', 32, 72000), ('alice', 29, 115000), ('charlie', 25, 95000)]\n"
          ]
        }
      ],
      "source": [
        "# Sütunlar = (İsim, Yaş, Maaş)\n",
        "alumni = [('bob',32,72000),\n",
        "          ('alice',29,115000),\n",
        "          ('charlie',25,95000)]\n",
        "\n",
        "print(sorted(alumni)) # Sıralama işlemleri için kullanılan fonksiyon\n",
        "print(alumni)"
      ]
    },
    {
      "cell_type": "markdown",
      "metadata": {
        "id": "hQxh9NOfy6ub"
      },
      "source": [
        "Sorun ne? Aslında `sorted` fonksiyonunu çalıştırdığımızda istediğimiz sonucu vermişti? Ama orijinal verimizi değiştirmemiş...\n",
        "\n",
        "Bir de bu yazım şekliyle deneyelim."
      ]
    },
    {
      "cell_type": "code",
      "execution_count": null,
      "metadata": {
        "id": "I834DHM5y6uc",
        "outputId": "ce140dae-48b8-4734-df7d-d62e1b20b6c8"
      },
      "outputs": [
        {
          "name": "stdout",
          "output_type": "stream",
          "text": [
            "[('alice', 29, 115000), ('bob', 32, 72000), ('charlie', 25, 95000)]\n"
          ]
        }
      ],
      "source": [
        "alumni.sort() # sort fonksiyonu sıralamayı orijinal veri üzerinde gerçekleştirdi\n",
        "print(alumni)"
      ]
    },
    {
      "cell_type": "markdown",
      "metadata": {
        "id": "MdPNj9ooy6uc"
      },
      "source": [
        "Şimdi oldu! Çünkü `sorted(alumni)` fonksiyonunu çalıştırdığımda verinin orijinal halini değiştirmek yerine, aslında bana değerlerimizin sıralı halini yeni bir liste olarak tanımlamış oldu.\n",
        "\n",
        "Genellikle `sorted` fonksiyonunu kullanmak `.sort` fonksiyonuna nazaran daha güvenli bir işlemdir, çünkü yanlışlıkla `.sort` fonksiyonunu kullanırsanız, orijinal verinizi komple değiştirmiş olursunuz.\n",
        "\n",
        "Ama sıralama işlemlerimizi şu ana kadar hep ilk sütundaki (isim) **alfabetik sıraya göre** yaptık. Şimdi de değerleri biraz tersten sıralamayı biraz da maaş sütununa göre sıralamayı inceleyelim."
      ]
    },
    {
      "cell_type": "code",
      "execution_count": null,
      "metadata": {
        "id": "UrNvDc0Uy6ud",
        "outputId": "6a149727-d4f1-4ed5-fc95-8bc6d85543ae"
      },
      "outputs": [
        {
          "name": "stdout",
          "output_type": "stream",
          "text": [
            "[('charlie', 25, 95000), ('bob', 32, 72000), ('alice', 29, 115000)]\n"
          ]
        }
      ],
      "source": [
        "print(sorted(alumni, reverse=True))"
      ]
    },
    {
      "cell_type": "markdown",
      "metadata": {
        "id": "pwb3mFOKy6ud"
      },
      "source": [
        "İlk sütun dışında bir değere göre sıralama yapmak için Python'a nasıl sıralanacağını söylememiz gerekir. Bu iş, bir `lambda` fonksiyonu için harika bir kullanımdır. Lambda fonksiyonları, **kaydetmek istemediğimiz** fonksiyon tanımlamalarıdır. İşlevlerini sadece bir satırda tamamlamalarını ve sonra hafıza alanını çalmamalarını isteriz."
      ]
    },
    {
      "cell_type": "code",
      "execution_count": null,
      "metadata": {
        "id": "TW4dzoWGy6ud",
        "outputId": "a71a68a3-916e-49f5-aa17-7b8c1f732434"
      },
      "outputs": [
        {
          "name": "stdout",
          "output_type": "stream",
          "text": [
            "[('bob', 32, 72000), ('charlie', 25, 95000), ('alice', 29, 115000)]\n"
          ]
        }
      ],
      "source": [
        "print(sorted(alumni, key=lambda row: row[2]))"
      ]
    },
    {
      "cell_type": "code",
      "execution_count": null,
      "metadata": {
        "id": "Nw-TaEDey6ue",
        "outputId": "4ffa1919-944d-4df5-e0c9-7d2d292bfe0b"
      },
      "outputs": [
        {
          "data": {
            "text/plain": [
              "[('alice', 29, 115000), ('charlie', 25, 95000), ('bob', 32, 72000)]"
            ]
          },
          "execution_count": 73,
          "metadata": {},
          "output_type": "execute_result"
        }
      ],
      "source": [
        "alumni.sort(key=lambda row: row[2], reverse=True)\n",
        "alumni"
      ]
    },
    {
      "cell_type": "markdown",
      "metadata": {
        "id": "8EEzCBWby6ue"
      },
      "source": [
        "`sorted` fonksiyonu için `key` parametresi, her bir verinin hangi parçasına göre sıralamak istediğimizi tanımlayan bir fonksiyon alır. Burada ikinci indexteki (maaş) bilgilerine göre sıralama yapmasını söyledik. İşlevin kendisi çok ilginç değil, bu çizginin ötesinde yaşamasını istemiyoruz.\n",
        "\n",
        "Bu ifadeyi sonrasında tekrardan kullanabilmek için bir fonksiyon yapısına dönüştürecek olursak ise..."
      ]
    },
    {
      "cell_type": "code",
      "execution_count": null,
      "metadata": {
        "id": "6U5iJBgWy6uf",
        "outputId": "63b52264-9ee3-4ddf-db66-beaa3f12afd0"
      },
      "outputs": [
        {
          "name": "stdout",
          "output_type": "stream",
          "text": [
            "[('bob', 32, 72000), ('charlie', 25, 95000), ('alice', 29, 115000)]\n"
          ]
        }
      ],
      "source": [
        "def get_second_column_of_row(row):\n",
        "    \"\"\"\n",
        "    Satırda bulunan 2. indexe ait değerleri döndürür.\n",
        "    \"\"\"\n",
        "    return row[2]\n",
        "\n",
        "print(sorted(alumni, key=get_second_column_of_row))"
      ]
    },
    {
      "cell_type": "markdown",
      "metadata": {
        "id": "567Y2NS8y6uf"
      },
      "source": [
        "Ama gerçekçi olmak gerekirse, bu fonksiyonu isim alanıma kaydetmek istemiyorum, bir daha da asla istemeyeceğim. Bunun yerine, tüm kodumu tek kullanımlık fonksiyonlarla kirletmeden davranışı tanımlamak için `lambda` fonksiyonu kullanıyoruz. Lambda fonksiyonu, özellikle `map` veya `filter` fonksiyonlarını kullanmak gibi işler yaparken, python dilinin ortak bir parçasıdır. Ama bunlar şimdilik başka bir zamanın tartışma konusu."
      ]
    },
    {
      "cell_type": "markdown",
      "metadata": {
        "id": "nyDaXsUvy6ug"
      },
      "source": [
        "## Hata Mesajları"
      ]
    },
    {
      "cell_type": "markdown",
      "metadata": {
        "id": "M5r_woC1y6ug"
      },
      "source": [
        "Python'da yazdığımız kod bloğu içerisinde beklenmedik durumlarla karşılaşıldığında, hata mesajları vermeye başlar ve o hatanın sebebini çözene kadar yapmak istediğimiz işlemi bizim için askıya alır.\n",
        "\n",
        "Ancak bazı durumlarda yazdığımız **kodların doğru şekilde kullanılmasını sağlamak** için kendimiz hata mesajları tanımlama ihtiyacı hissederiz."
      ]
    },
    {
      "cell_type": "markdown",
      "metadata": {
        "id": "Dqm6xCr1y6uh"
      },
      "source": [
        "İstenmeyen durumlarla başa çıkmak için `assert` fonksiyonunu da kullanabiliriz."
      ]
    },
    {
      "cell_type": "code",
      "execution_count": null,
      "metadata": {
        "id": "_3eQ42Y3y6uh",
        "outputId": "cb4c3fae-6390-48b3-8fbd-331849b0bc94"
      },
      "outputs": [
        {
          "ename": "ValueError",
          "evalue": "List should have an even number of elements!",
          "output_type": "error",
          "traceback": [
            "\u001b[0;31m---------------------------------------------------------------------------\u001b[0m",
            "\u001b[0;31mValueError\u001b[0m                                Traceback (most recent call last)",
            "Input \u001b[0;32mIn [75]\u001b[0m, in \u001b[0;36m<cell line: 2>\u001b[0;34m()\u001b[0m\n\u001b[1;32m      1\u001b[0m class_list \u001b[38;5;241m=\u001b[39m [\u001b[38;5;241m1\u001b[39m,\u001b[38;5;241m2\u001b[39m,\u001b[38;5;241m3\u001b[39m]\n\u001b[1;32m      2\u001b[0m \u001b[38;5;28;01mif\u001b[39;00m \u001b[38;5;28mlen\u001b[39m(class_list) \u001b[38;5;241m%\u001b[39m \u001b[38;5;241m2\u001b[39m \u001b[38;5;241m!=\u001b[39m\u001b[38;5;241m0\u001b[39m:\n\u001b[0;32m----> 3\u001b[0m     \u001b[38;5;28;01mraise\u001b[39;00m \u001b[38;5;167;01mValueError\u001b[39;00m(\u001b[38;5;124m\"\u001b[39m\u001b[38;5;124mList should have an even number of elements!\u001b[39m\u001b[38;5;124m\"\u001b[39m)\n",
            "\u001b[0;31mValueError\u001b[0m: List should have an even number of elements!"
          ]
        }
      ],
      "source": [
        "class_list = [1,2,3]\n",
        "if len(class_list) % 2 !=0:\n",
        "    raise ValueError(\"List should have an even number of elements!\") # Tanımladığımız hata mesajı"
      ]
    },
    {
      "cell_type": "code",
      "execution_count": null,
      "metadata": {
        "id": "IEZWxcTxy6ui",
        "outputId": "b644031d-41dc-47d0-891d-1fa71e5fe4f5"
      },
      "outputs": [
        {
          "ename": "AssertionError",
          "evalue": "Input must be a list!",
          "output_type": "error",
          "traceback": [
            "\u001b[0;31m---------------------------------------------------------------------------\u001b[0m",
            "\u001b[0;31mAssertionError\u001b[0m                            Traceback (most recent call last)",
            "Input \u001b[0;32mIn [76]\u001b[0m, in \u001b[0;36m<cell line: 10>\u001b[0;34m()\u001b[0m\n\u001b[1;32m      7\u001b[0m     \u001b[38;5;28;01massert\u001b[39;00m \u001b[38;5;28mtype\u001b[39m(list_to_sum) \u001b[38;5;241m==\u001b[39m \u001b[38;5;28mlist\u001b[39m, \u001b[38;5;124m\"\u001b[39m\u001b[38;5;124mInput must be a list!\u001b[39m\u001b[38;5;124m\"\u001b[39m\n\u001b[1;32m      8\u001b[0m     \u001b[38;5;28;01mreturn\u001b[39;00m \u001b[38;5;28msum\u001b[39m(list_to_sum)\n\u001b[0;32m---> 10\u001b[0m \u001b[38;5;28mprint\u001b[39m(\u001b[43msum_up_a_list\u001b[49m\u001b[43m(\u001b[49m\u001b[38;5;241;43m3\u001b[39;49m\u001b[43m)\u001b[49m)\n",
            "Input \u001b[0;32mIn [76]\u001b[0m, in \u001b[0;36msum_up_a_list\u001b[0;34m(list_to_sum)\u001b[0m\n\u001b[1;32m      2\u001b[0m \u001b[38;5;124;03m\"\"\"\u001b[39;00m\n\u001b[1;32m      3\u001b[0m \u001b[38;5;124;03mGirdi olarak bir sayı listesi alır ve liste\u001b[39;00m\n\u001b[1;32m      4\u001b[0m \u001b[38;5;124;03miçerisindeki sayıların toplamını hesaplar.\u001b[39;00m\n\u001b[1;32m      5\u001b[0m \u001b[38;5;124;03m\"\"\"\u001b[39;00m\n\u001b[1;32m      6\u001b[0m \u001b[38;5;66;03m# Girdi olarak verilen değerler list yapısında olsun istiyorum\u001b[39;00m\n\u001b[0;32m----> 7\u001b[0m \u001b[38;5;28;01massert\u001b[39;00m \u001b[38;5;28mtype\u001b[39m(list_to_sum) \u001b[38;5;241m==\u001b[39m \u001b[38;5;28mlist\u001b[39m, \u001b[38;5;124m\"\u001b[39m\u001b[38;5;124mInput must be a list!\u001b[39m\u001b[38;5;124m\"\u001b[39m\n\u001b[1;32m      8\u001b[0m \u001b[38;5;28;01mreturn\u001b[39;00m \u001b[38;5;28msum\u001b[39m(list_to_sum)\n",
            "\u001b[0;31mAssertionError\u001b[0m: Input must be a list!"
          ]
        }
      ],
      "source": [
        "def sum_up_a_list(list_to_sum):\n",
        "    \"\"\"\n",
        "    Girdi olarak bir sayı listesi alır ve liste\n",
        "    içerisindeki sayıların toplamını hesaplar.\n",
        "    \"\"\"\n",
        "    # Girdi olarak verilen değerler list yapısında olsun istiyorum\n",
        "    assert type(list_to_sum) == list, \"Input must be a list!\"\n",
        "    return sum(list_to_sum)\n",
        "\n",
        "print(sum_up_a_list(3))"
      ]
    },
    {
      "cell_type": "code",
      "execution_count": null,
      "metadata": {
        "id": "pMW_D1t6y6ui",
        "outputId": "56d74287-86da-4d3d-b4a5-53ef8d4c3cce"
      },
      "outputs": [
        {
          "name": "stdout",
          "output_type": "stream",
          "text": [
            "6\n"
          ]
        }
      ],
      "source": [
        "print(sum_up_a_list([1,2,3]))"
      ]
    },
    {
      "cell_type": "markdown",
      "metadata": {
        "id": "1hLajnYxy6uj"
      },
      "source": [
        "## Try - Except"
      ]
    },
    {
      "cell_type": "markdown",
      "metadata": {
        "id": "Mi7w_kBuy6uj"
      },
      "source": [
        "`try-except` fonksiyonu, hatalara anında tepki verebilen kod oluşturmanın harika bir yoludur. Yapmamız gereken, `try` ifadesinin içine çalışmasını istediğimiz kod bloğu koymak, ardından `except` ifadesine de `try` kısmında yazdığımız kodda bir hata meydana geldiğinde de \"nasıl bir davranış izlemesini istediğimizi belirtiriz\"."
      ]
    },
    {
      "cell_type": "code",
      "execution_count": null,
      "metadata": {
        "id": "xC8p3bTzy6uk",
        "outputId": "60443069-657a-4789-c644-c01de3b7da94"
      },
      "outputs": [
        {
          "name": "stdout",
          "output_type": "stream",
          "text": [
            "Trying to divide\n",
            "\n",
            "Oops, forgot to make it a number\n",
            "0.5\n"
          ]
        }
      ],
      "source": [
        "x = \"1\" # 1 sayısının string versiyonu, bununla matematiksel işlemler gerçekleştirilemez\n",
        "\n",
        "try:\n",
        "    print(\"Trying to divide\")\n",
        "    print(x/2)\n",
        "    print(\"This won't happen because of the error\")\n",
        "\n",
        "except:\n",
        "    print(\"\\nOops, forgot to make it a number\")\n",
        "    print(int(x)/2)"
      ]
    },
    {
      "cell_type": "code",
      "execution_count": null,
      "metadata": {
        "id": "CJDKR9lOy6uk",
        "outputId": "b957cb95-706f-4e80-ee3d-8cf27d9f1011"
      },
      "outputs": [
        {
          "name": "stdout",
          "output_type": "stream",
          "text": [
            "¯\\_(ツ)_/¯\n"
          ]
        }
      ],
      "source": [
        "del x # del fonksiyonu tanımladığımız değişkeni tamamen silmemizi sağlar\n",
        "\n",
        "try:\n",
        "    str(x)\n",
        "except:\n",
        "    print(\"¯\\_(ツ)_/¯\")"
      ]
    },
    {
      "cell_type": "markdown",
      "metadata": {
        "id": "34RsfLHHy6ul"
      },
      "source": [
        "## Referans Değerler vs Gerçek Değerler"
      ]
    },
    {
      "cell_type": "code",
      "execution_count": null,
      "metadata": {
        "id": "WL5UabSky6ul",
        "outputId": "597be912-6227-4a63-c730-a6b98c83c763"
      },
      "outputs": [
        {
          "name": "stdout",
          "output_type": "stream",
          "text": [
            "[1, 2, 3, 4]\n",
            "[1, 2, 3, 4]\n"
          ]
        }
      ],
      "source": [
        "a = [1,2,3]\n",
        "b = a\n",
        "b.append(4)\n",
        "\n",
        "# Aslında sadece b listesine bir ekleme yapmamıza rağmen, neden a listesine de aynı eklemeyi yaptı?\n",
        "print(a)\n",
        "print(b)"
      ]
    },
    {
      "cell_type": "markdown",
      "metadata": {
        "id": "OE7h4Y_Zy6um"
      },
      "source": [
        "`b = a` yazımı bizim için `b` adını verdiğimiz yeni bir değişken tanımlamaz. Sadece `b` değişkenimizi `a` değişkenine bağlı yeni bir değişken olarak oluşturur.\n",
        "\n",
        "Eğer yeni bir değişken oluşturmak istersek, `a` değişkenindeki değerleri kullanarak yeni bir veri yapısı tanımlamamız gerekir (Python'a `a` değişkenindeki değerleri kullanarak bir liste veri tipine yazarak oluşturulan bu listeyi `b` değişkenine eşitle gibi)."
      ]
    },
    {
      "cell_type": "code",
      "execution_count": null,
      "metadata": {
        "id": "ltdvpjiIy6um",
        "outputId": "61e72156-b398-4ed6-8145-f21cba2192f6"
      },
      "outputs": [
        {
          "name": "stdout",
          "output_type": "stream",
          "text": [
            "[1, 2, 3]\n",
            "[1, 2, 3, 4]\n"
          ]
        }
      ],
      "source": [
        "a = [1,2,3]\n",
        "b = a.copy()\n",
        "b.append(4)\n",
        "\n",
        "print(a)\n",
        "print(b)"
      ]
    },
    {
      "cell_type": "markdown",
      "metadata": {
        "id": "5XwtPE5dy6un"
      },
      "source": [
        "# Özet\n",
        "\n",
        "Python'da kodlama yaparken yalnızca en yaygın yazım standartlarının bazılarına değindik. Eğer incelemek isterseniz, standartların burada bulunabilecek daha bir çok bölümü var:\n",
        "\n",
        "[PEP8 Guide](https://www.python.org/dev/peps/pep-0008/)\n",
        "\n",
        "> **HATIRLATMA:** Gelecekte kendinin ve ekip arkadaşlarının sana teşekkür etmeleri için kodlarını kolay okunabilir ve anlaşılabilir bir şekilde yazmayı unutmayın :)"
      ]
    },
    {
      "cell_type": "code",
      "execution_count": null,
      "metadata": {
        "id": "zoG4xc-Wy6un"
      },
      "outputs": [],
      "source": []
    }
  ],
  "metadata": {
    "kernelspec": {
      "display_name": "Python 3 (ipykernel)",
      "language": "python",
      "name": "python3"
    },
    "language_info": {
      "codemirror_mode": {
        "name": "ipython",
        "version": 3
      },
      "file_extension": ".py",
      "mimetype": "text/x-python",
      "name": "python",
      "nbconvert_exporter": "python",
      "pygments_lexer": "ipython3",
      "version": "3.9.12"
    },
    "colab": {
      "provenance": [],
      "include_colab_link": true
    }
  },
  "nbformat": 4,
  "nbformat_minor": 0
}